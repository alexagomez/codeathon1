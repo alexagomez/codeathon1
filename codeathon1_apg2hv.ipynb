{
  "nbformat": 4,
  "nbformat_minor": 0,
  "metadata": {
    "colab": {
      "name": "codeathon1_apg2hv.ipynb",
      "provenance": []
    },
    "kernelspec": {
      "name": "python3",
      "display_name": "Python 3"
    }
  },
  "cells": [
    {
      "cell_type": "code",
      "metadata": {
        "id": "LnnmpJoFPg7h",
        "colab_type": "code",
        "colab": {}
      },
      "source": [
        "# Python ≥3.5 is required\n",
        "import sys\n",
        "assert sys.version_info >= (3, 5)\n",
        "\n",
        "# Scikit-Learn ≥0.20 is required\n",
        "import sklearn\n",
        "assert sklearn.__version__ >= \"0.20\"\n",
        "\n",
        "# Common imports\n",
        "import numpy as np\n",
        "import os\n",
        "\n",
        "# to make this notebook's output stable across runs\n",
        "# any number will do, as long as it is used consistently\n",
        "np.random.seed(42)\n",
        "\n",
        "# To plot pretty figures\n",
        "%matplotlib inline\n",
        "import matplotlib as mpl\n",
        "import matplotlib.pyplot as plt\n",
        "mpl.rc('axes', labelsize=14)\n",
        "mpl.rc('xtick', labelsize=12)\n",
        "mpl.rc('ytick', labelsize=12)\n",
        "\n",
        "# Where to save the figures\n",
        "PROJECT_ROOT_DIR = \".\"\n",
        "CHAPTER_ID = \"end_to_end_project\"\n",
        "IMAGES_PATH = os.path.join(PROJECT_ROOT_DIR, \"images\", CHAPTER_ID)\n",
        "os.makedirs(IMAGES_PATH, exist_ok=True)\n",
        "\n",
        "def save_fig(fig_id, tight_layout=True, fig_extension=\"png\", resolution=300):\n",
        "\n",
        "  path = os.path.join(IMAGES_PATH, fig_id + \".\" + fig_extension)\n",
        "  print(\"Saving figure\", fig_id)\n",
        "  if tight_layout:\n",
        "    plt.tight_layout()\n",
        "  plt.savefig(path, format=fig_extension, dpi=resolution)\n",
        "\n",
        "# Ignore useless warnings (see SciPy issue #5998)\n",
        "import warnings\n",
        "warnings.filterwarnings(action=\"ignore\", message=\"^internal gelsd\")"
      ],
      "execution_count": 0,
      "outputs": []
    },
    {
      "cell_type": "markdown",
      "metadata": {
        "id": "ljkFnCVl1bz8",
        "colab_type": "text"
      },
      "source": [
        "STEP 2. GET THE DATA"
      ]
    },
    {
      "cell_type": "code",
      "metadata": {
        "id": "FgwAeUkRPu6E",
        "colab_type": "code",
        "colab": {}
      },
      "source": [
        "import os # in order to run file I/O operation \n",
        "#import tarfile # to support compressed (tar) files\n",
        "from six.moves import urllib # support URL download\n",
        "\n",
        "HOUSING_URL = \"https://raw.githubusercontent.com/alexagomez/codeathon1/master/housing.csv\"\n",
        "#HOUSING_PATH = os.path.join(\"datasets\", \"housing\")\n",
        "#HOUSING_URL = DOWNLOAD_ROOT + \"datasets/housing/housing.tgz\"\n",
        "\n",
        "#def fetch_housing_data(housing_url=HOUSING_URL, housing_path=HOUSING_PATH):\n",
        "    #\"\"\"Fetch housing data from a remote URL to Colab file system\"\"\"\n",
        "    #if not os.path.isdir(housing_path):\n",
        "    #    os.makedirs(housing_path)\n",
        "    #tgz_path = os.path.join(housing_path, \"housing.tgz\")\n",
        "    #urllib.request.urlretrieve(housing_url, tgz_path)\n",
        "    #housing_tgz = tarfile.open(tgz_path)\n",
        "    #housing_tgz.extractall(path=housing_path)\n",
        "    #housing_tgz.close()"
      ],
      "execution_count": 0,
      "outputs": []
    },
    {
      "cell_type": "markdown",
      "metadata": {
        "id": "HxNlSw_Eoe_D",
        "colab_type": "text"
      },
      "source": [
        "Some of these are commented out because I don't have a tar file\n"
      ]
    },
    {
      "cell_type": "code",
      "metadata": {
        "id": "EyAxdds8RzK5",
        "colab_type": "code",
        "colab": {}
      },
      "source": [
        "#fetch_housing_data()"
      ],
      "execution_count": 0,
      "outputs": []
    },
    {
      "cell_type": "code",
      "metadata": {
        "id": "YQPk1e25R1TG",
        "colab_type": "code",
        "colab": {}
      },
      "source": [
        "import pandas as pd # Pandas library enables data manipulation\n",
        "\n",
        "COLUMN_NAMES = ['crim', 'zn', 'indus', 'chas', 'nox', 'rm', 'age', 'dis', 'rad', 'tax', 'ptratio', 'b', 'lstat', 'medv']\n",
        "\n",
        "def load_housing_data(housing_url=HOUSING_URL, column_names = COLUMN_NAMES):\n",
        "    \"\"\"Load Housing Data into Workspace from a CSV\"\"\"\n",
        "    #csv_path = os.path.join(housing_path, \"housing.csv\")\n",
        "    return pd.read_csv(housing_url, sep=r'\\s*\\s*', engine ='python', header = None, names = column_names)"
      ],
      "execution_count": 0,
      "outputs": []
    },
    {
      "cell_type": "code",
      "metadata": {
        "id": "lkCcvdvHR8Z-",
        "colab_type": "code",
        "outputId": "4967b768-efd3-4606-9179-9491ec7bdd04",
        "colab": {
          "base_uri": "https://localhost:8080/",
          "height": 447
        }
      },
      "source": [
        "housing = load_housing_data()\n",
        "# Display the first n rows of the data. (n=5 by default)\n",
        "housing.head(10)"
      ],
      "execution_count": 0,
      "outputs": [
        {
          "output_type": "stream",
          "text": [
            "/usr/local/lib/python3.6/dist-packages/pandas/io/parsers.py:2379: FutureWarning: split() requires a non-empty pattern match.\n",
            "  yield pat.split(line.strip())\n",
            "/usr/local/lib/python3.6/dist-packages/pandas/io/parsers.py:2381: FutureWarning: split() requires a non-empty pattern match.\n",
            "  yield pat.split(line.strip())\n"
          ],
          "name": "stderr"
        },
        {
          "output_type": "execute_result",
          "data": {
            "text/html": [
              "<div>\n",
              "<style scoped>\n",
              "    .dataframe tbody tr th:only-of-type {\n",
              "        vertical-align: middle;\n",
              "    }\n",
              "\n",
              "    .dataframe tbody tr th {\n",
              "        vertical-align: top;\n",
              "    }\n",
              "\n",
              "    .dataframe thead th {\n",
              "        text-align: right;\n",
              "    }\n",
              "</style>\n",
              "<table border=\"1\" class=\"dataframe\">\n",
              "  <thead>\n",
              "    <tr style=\"text-align: right;\">\n",
              "      <th></th>\n",
              "      <th>crim</th>\n",
              "      <th>zn</th>\n",
              "      <th>indus</th>\n",
              "      <th>chas</th>\n",
              "      <th>nox</th>\n",
              "      <th>rm</th>\n",
              "      <th>age</th>\n",
              "      <th>dis</th>\n",
              "      <th>rad</th>\n",
              "      <th>tax</th>\n",
              "      <th>ptratio</th>\n",
              "      <th>b</th>\n",
              "      <th>lstat</th>\n",
              "      <th>medv</th>\n",
              "    </tr>\n",
              "  </thead>\n",
              "  <tbody>\n",
              "    <tr>\n",
              "      <th>0</th>\n",
              "      <td>0.00632</td>\n",
              "      <td>18.0</td>\n",
              "      <td>2.31</td>\n",
              "      <td>0</td>\n",
              "      <td>0.538</td>\n",
              "      <td>6.575</td>\n",
              "      <td>65.2</td>\n",
              "      <td>4.0900</td>\n",
              "      <td>1</td>\n",
              "      <td>296.0</td>\n",
              "      <td>15.3</td>\n",
              "      <td>396.90</td>\n",
              "      <td>4.98</td>\n",
              "      <td>24.0</td>\n",
              "    </tr>\n",
              "    <tr>\n",
              "      <th>1</th>\n",
              "      <td>0.02731</td>\n",
              "      <td>0.0</td>\n",
              "      <td>7.07</td>\n",
              "      <td>0</td>\n",
              "      <td>0.469</td>\n",
              "      <td>6.421</td>\n",
              "      <td>78.9</td>\n",
              "      <td>4.9671</td>\n",
              "      <td>2</td>\n",
              "      <td>242.0</td>\n",
              "      <td>17.8</td>\n",
              "      <td>396.90</td>\n",
              "      <td>9.14</td>\n",
              "      <td>21.6</td>\n",
              "    </tr>\n",
              "    <tr>\n",
              "      <th>2</th>\n",
              "      <td>0.02729</td>\n",
              "      <td>0.0</td>\n",
              "      <td>7.07</td>\n",
              "      <td>0</td>\n",
              "      <td>0.469</td>\n",
              "      <td>7.185</td>\n",
              "      <td>61.1</td>\n",
              "      <td>4.9671</td>\n",
              "      <td>2</td>\n",
              "      <td>242.0</td>\n",
              "      <td>17.8</td>\n",
              "      <td>392.83</td>\n",
              "      <td>4.03</td>\n",
              "      <td>34.7</td>\n",
              "    </tr>\n",
              "    <tr>\n",
              "      <th>3</th>\n",
              "      <td>0.03237</td>\n",
              "      <td>0.0</td>\n",
              "      <td>2.18</td>\n",
              "      <td>0</td>\n",
              "      <td>0.458</td>\n",
              "      <td>6.998</td>\n",
              "      <td>45.8</td>\n",
              "      <td>6.0622</td>\n",
              "      <td>3</td>\n",
              "      <td>222.0</td>\n",
              "      <td>18.7</td>\n",
              "      <td>394.63</td>\n",
              "      <td>2.94</td>\n",
              "      <td>33.4</td>\n",
              "    </tr>\n",
              "    <tr>\n",
              "      <th>4</th>\n",
              "      <td>0.06905</td>\n",
              "      <td>0.0</td>\n",
              "      <td>2.18</td>\n",
              "      <td>0</td>\n",
              "      <td>0.458</td>\n",
              "      <td>7.147</td>\n",
              "      <td>54.2</td>\n",
              "      <td>6.0622</td>\n",
              "      <td>3</td>\n",
              "      <td>222.0</td>\n",
              "      <td>18.7</td>\n",
              "      <td>396.90</td>\n",
              "      <td>5.33</td>\n",
              "      <td>36.2</td>\n",
              "    </tr>\n",
              "    <tr>\n",
              "      <th>5</th>\n",
              "      <td>0.02985</td>\n",
              "      <td>0.0</td>\n",
              "      <td>2.18</td>\n",
              "      <td>0</td>\n",
              "      <td>0.458</td>\n",
              "      <td>6.430</td>\n",
              "      <td>58.7</td>\n",
              "      <td>6.0622</td>\n",
              "      <td>3</td>\n",
              "      <td>222.0</td>\n",
              "      <td>18.7</td>\n",
              "      <td>394.12</td>\n",
              "      <td>5.21</td>\n",
              "      <td>28.7</td>\n",
              "    </tr>\n",
              "    <tr>\n",
              "      <th>6</th>\n",
              "      <td>0.08829</td>\n",
              "      <td>12.5</td>\n",
              "      <td>7.87</td>\n",
              "      <td>0</td>\n",
              "      <td>0.524</td>\n",
              "      <td>6.012</td>\n",
              "      <td>66.6</td>\n",
              "      <td>5.5605</td>\n",
              "      <td>5</td>\n",
              "      <td>311.0</td>\n",
              "      <td>15.2</td>\n",
              "      <td>395.60</td>\n",
              "      <td>12.43</td>\n",
              "      <td>22.9</td>\n",
              "    </tr>\n",
              "    <tr>\n",
              "      <th>7</th>\n",
              "      <td>0.14455</td>\n",
              "      <td>12.5</td>\n",
              "      <td>7.87</td>\n",
              "      <td>0</td>\n",
              "      <td>0.524</td>\n",
              "      <td>6.172</td>\n",
              "      <td>96.1</td>\n",
              "      <td>5.9505</td>\n",
              "      <td>5</td>\n",
              "      <td>311.0</td>\n",
              "      <td>15.2</td>\n",
              "      <td>396.90</td>\n",
              "      <td>19.15</td>\n",
              "      <td>27.1</td>\n",
              "    </tr>\n",
              "    <tr>\n",
              "      <th>8</th>\n",
              "      <td>0.21124</td>\n",
              "      <td>12.5</td>\n",
              "      <td>7.87</td>\n",
              "      <td>0</td>\n",
              "      <td>0.524</td>\n",
              "      <td>5.631</td>\n",
              "      <td>100.0</td>\n",
              "      <td>6.0821</td>\n",
              "      <td>5</td>\n",
              "      <td>311.0</td>\n",
              "      <td>15.2</td>\n",
              "      <td>386.63</td>\n",
              "      <td>29.93</td>\n",
              "      <td>16.5</td>\n",
              "    </tr>\n",
              "    <tr>\n",
              "      <th>9</th>\n",
              "      <td>0.17004</td>\n",
              "      <td>12.5</td>\n",
              "      <td>7.87</td>\n",
              "      <td>0</td>\n",
              "      <td>0.524</td>\n",
              "      <td>6.004</td>\n",
              "      <td>85.9</td>\n",
              "      <td>6.5921</td>\n",
              "      <td>5</td>\n",
              "      <td>311.0</td>\n",
              "      <td>15.2</td>\n",
              "      <td>386.71</td>\n",
              "      <td>17.10</td>\n",
              "      <td>18.9</td>\n",
              "    </tr>\n",
              "  </tbody>\n",
              "</table>\n",
              "</div>"
            ],
            "text/plain": [
              "      crim    zn  indus  chas    nox  ...    tax  ptratio       b  lstat  medv\n",
              "0  0.00632  18.0   2.31     0  0.538  ...  296.0     15.3  396.90   4.98  24.0\n",
              "1  0.02731   0.0   7.07     0  0.469  ...  242.0     17.8  396.90   9.14  21.6\n",
              "2  0.02729   0.0   7.07     0  0.469  ...  242.0     17.8  392.83   4.03  34.7\n",
              "3  0.03237   0.0   2.18     0  0.458  ...  222.0     18.7  394.63   2.94  33.4\n",
              "4  0.06905   0.0   2.18     0  0.458  ...  222.0     18.7  396.90   5.33  36.2\n",
              "5  0.02985   0.0   2.18     0  0.458  ...  222.0     18.7  394.12   5.21  28.7\n",
              "6  0.08829  12.5   7.87     0  0.524  ...  311.0     15.2  395.60  12.43  22.9\n",
              "7  0.14455  12.5   7.87     0  0.524  ...  311.0     15.2  396.90  19.15  27.1\n",
              "8  0.21124  12.5   7.87     0  0.524  ...  311.0     15.2  386.63  29.93  16.5\n",
              "9  0.17004  12.5   7.87     0  0.524  ...  311.0     15.2  386.71  17.10  18.9\n",
              "\n",
              "[10 rows x 14 columns]"
            ]
          },
          "metadata": {
            "tags": []
          },
          "execution_count": 7
        }
      ]
    },
    {
      "cell_type": "code",
      "metadata": {
        "id": "SkhT2JeUvmUH",
        "colab_type": "code",
        "outputId": "5ddd2b8e-77cc-4e55-b6e0-cbc9e5b061f0",
        "colab": {
          "base_uri": "https://localhost:8080/",
          "height": 340
        }
      },
      "source": [
        "# Provide a quick summary of the data including name of features, count, and type\n",
        "housing.info()"
      ],
      "execution_count": 0,
      "outputs": [
        {
          "output_type": "stream",
          "text": [
            "<class 'pandas.core.frame.DataFrame'>\n",
            "RangeIndex: 506 entries, 0 to 505\n",
            "Data columns (total 14 columns):\n",
            "crim       506 non-null float64\n",
            "zn         506 non-null float64\n",
            "indus      506 non-null float64\n",
            "chas       506 non-null int64\n",
            "nox        506 non-null float64\n",
            "rm         506 non-null float64\n",
            "age        506 non-null float64\n",
            "dis        506 non-null float64\n",
            "rad        506 non-null int64\n",
            "tax        506 non-null float64\n",
            "ptratio    506 non-null float64\n",
            "b          506 non-null float64\n",
            "lstat      506 non-null float64\n",
            "medv       506 non-null float64\n",
            "dtypes: float64(12), int64(2)\n",
            "memory usage: 55.4 KB\n"
          ],
          "name": "stdout"
        }
      ]
    },
    {
      "cell_type": "code",
      "metadata": {
        "id": "H-Qjk-4Pvtui",
        "colab_type": "code",
        "outputId": "2292ccf2-a953-4d18-b0c3-9279fdbf0454",
        "colab": {
          "base_uri": "https://localhost:8080/",
          "height": 1000
        }
      },
      "source": [
        "# View the counts of each value in the \"medv\" feature\n",
        "housing[\"medv\"].value_counts()"
      ],
      "execution_count": 0,
      "outputs": [
        {
          "output_type": "execute_result",
          "data": {
            "text/plain": [
              "50.0    16\n",
              "25.0     8\n",
              "23.1     7\n",
              "21.7     7\n",
              "22.0     7\n",
              "20.6     6\n",
              "19.4     6\n",
              "20.1     5\n",
              "19.6     5\n",
              "19.3     5\n",
              "15.6     5\n",
              "21.4     5\n",
              "13.8     5\n",
              "21.2     5\n",
              "20.0     5\n",
              "17.8     5\n",
              "23.9     5\n",
              "22.6     5\n",
              "22.2     5\n",
              "24.4     4\n",
              "23.2     4\n",
              "23.8     4\n",
              "19.1     4\n",
              "20.3     4\n",
              "13.4     4\n",
              "19.9     4\n",
              "27.5     4\n",
              "22.8     4\n",
              "22.9     4\n",
              "18.9     4\n",
              "        ..\n",
              "12.3     1\n",
              "37.6     1\n",
              "29.4     1\n",
              "12.6     1\n",
              "22.1     1\n",
              "31.1     1\n",
              "48.3     1\n",
              "26.2     1\n",
              "11.0     1\n",
              "9.5      1\n",
              "12.0     1\n",
              "17.7     1\n",
              "44.8     1\n",
              "35.1     1\n",
              "32.4     1\n",
              "42.3     1\n",
              "28.2     1\n",
              "31.2     1\n",
              "33.3     1\n",
              "37.2     1\n",
              "28.6     1\n",
              "15.1     1\n",
              "17.3     1\n",
              "6.3      1\n",
              "39.8     1\n",
              "12.8     1\n",
              "29.9     1\n",
              "9.6      1\n",
              "36.1     1\n",
              "13.0     1\n",
              "Name: medv, Length: 229, dtype: int64"
            ]
          },
          "metadata": {
            "tags": []
          },
          "execution_count": 9
        }
      ]
    },
    {
      "cell_type": "code",
      "metadata": {
        "id": "amNNRnJAv_tl",
        "colab_type": "code",
        "outputId": "18a8842c-634d-42b8-808c-bcace618eebf",
        "colab": {
          "base_uri": "https://localhost:8080/",
          "height": 337
        }
      },
      "source": [
        "# Provide some basic statistics about the dataset\n",
        "housing.describe()"
      ],
      "execution_count": 0,
      "outputs": [
        {
          "output_type": "execute_result",
          "data": {
            "text/html": [
              "<div>\n",
              "<style scoped>\n",
              "    .dataframe tbody tr th:only-of-type {\n",
              "        vertical-align: middle;\n",
              "    }\n",
              "\n",
              "    .dataframe tbody tr th {\n",
              "        vertical-align: top;\n",
              "    }\n",
              "\n",
              "    .dataframe thead th {\n",
              "        text-align: right;\n",
              "    }\n",
              "</style>\n",
              "<table border=\"1\" class=\"dataframe\">\n",
              "  <thead>\n",
              "    <tr style=\"text-align: right;\">\n",
              "      <th></th>\n",
              "      <th>crim</th>\n",
              "      <th>zn</th>\n",
              "      <th>indus</th>\n",
              "      <th>chas</th>\n",
              "      <th>nox</th>\n",
              "      <th>rm</th>\n",
              "      <th>age</th>\n",
              "      <th>dis</th>\n",
              "      <th>rad</th>\n",
              "      <th>tax</th>\n",
              "      <th>ptratio</th>\n",
              "      <th>b</th>\n",
              "      <th>lstat</th>\n",
              "      <th>medv</th>\n",
              "    </tr>\n",
              "  </thead>\n",
              "  <tbody>\n",
              "    <tr>\n",
              "      <th>count</th>\n",
              "      <td>506.000000</td>\n",
              "      <td>506.000000</td>\n",
              "      <td>506.000000</td>\n",
              "      <td>506.000000</td>\n",
              "      <td>506.000000</td>\n",
              "      <td>506.000000</td>\n",
              "      <td>506.000000</td>\n",
              "      <td>506.000000</td>\n",
              "      <td>506.000000</td>\n",
              "      <td>506.000000</td>\n",
              "      <td>506.000000</td>\n",
              "      <td>506.000000</td>\n",
              "      <td>506.000000</td>\n",
              "      <td>506.000000</td>\n",
              "    </tr>\n",
              "    <tr>\n",
              "      <th>mean</th>\n",
              "      <td>3.613524</td>\n",
              "      <td>11.363636</td>\n",
              "      <td>11.136779</td>\n",
              "      <td>0.069170</td>\n",
              "      <td>0.554695</td>\n",
              "      <td>6.284634</td>\n",
              "      <td>68.574901</td>\n",
              "      <td>3.795043</td>\n",
              "      <td>9.549407</td>\n",
              "      <td>408.237154</td>\n",
              "      <td>18.455534</td>\n",
              "      <td>356.674032</td>\n",
              "      <td>12.653063</td>\n",
              "      <td>22.532806</td>\n",
              "    </tr>\n",
              "    <tr>\n",
              "      <th>std</th>\n",
              "      <td>8.601545</td>\n",
              "      <td>23.322453</td>\n",
              "      <td>6.860353</td>\n",
              "      <td>0.253994</td>\n",
              "      <td>0.115878</td>\n",
              "      <td>0.702617</td>\n",
              "      <td>28.148861</td>\n",
              "      <td>2.105710</td>\n",
              "      <td>8.707259</td>\n",
              "      <td>168.537116</td>\n",
              "      <td>2.164946</td>\n",
              "      <td>91.294864</td>\n",
              "      <td>7.141062</td>\n",
              "      <td>9.197104</td>\n",
              "    </tr>\n",
              "    <tr>\n",
              "      <th>min</th>\n",
              "      <td>0.006320</td>\n",
              "      <td>0.000000</td>\n",
              "      <td>0.460000</td>\n",
              "      <td>0.000000</td>\n",
              "      <td>0.385000</td>\n",
              "      <td>3.561000</td>\n",
              "      <td>2.900000</td>\n",
              "      <td>1.129600</td>\n",
              "      <td>1.000000</td>\n",
              "      <td>187.000000</td>\n",
              "      <td>12.600000</td>\n",
              "      <td>0.320000</td>\n",
              "      <td>1.730000</td>\n",
              "      <td>5.000000</td>\n",
              "    </tr>\n",
              "    <tr>\n",
              "      <th>25%</th>\n",
              "      <td>0.082045</td>\n",
              "      <td>0.000000</td>\n",
              "      <td>5.190000</td>\n",
              "      <td>0.000000</td>\n",
              "      <td>0.449000</td>\n",
              "      <td>5.885500</td>\n",
              "      <td>45.025000</td>\n",
              "      <td>2.100175</td>\n",
              "      <td>4.000000</td>\n",
              "      <td>279.000000</td>\n",
              "      <td>17.400000</td>\n",
              "      <td>375.377500</td>\n",
              "      <td>6.950000</td>\n",
              "      <td>17.025000</td>\n",
              "    </tr>\n",
              "    <tr>\n",
              "      <th>50%</th>\n",
              "      <td>0.256510</td>\n",
              "      <td>0.000000</td>\n",
              "      <td>9.690000</td>\n",
              "      <td>0.000000</td>\n",
              "      <td>0.538000</td>\n",
              "      <td>6.208500</td>\n",
              "      <td>77.500000</td>\n",
              "      <td>3.207450</td>\n",
              "      <td>5.000000</td>\n",
              "      <td>330.000000</td>\n",
              "      <td>19.050000</td>\n",
              "      <td>391.440000</td>\n",
              "      <td>11.360000</td>\n",
              "      <td>21.200000</td>\n",
              "    </tr>\n",
              "    <tr>\n",
              "      <th>75%</th>\n",
              "      <td>3.677082</td>\n",
              "      <td>12.500000</td>\n",
              "      <td>18.100000</td>\n",
              "      <td>0.000000</td>\n",
              "      <td>0.624000</td>\n",
              "      <td>6.623500</td>\n",
              "      <td>94.075000</td>\n",
              "      <td>5.188425</td>\n",
              "      <td>24.000000</td>\n",
              "      <td>666.000000</td>\n",
              "      <td>20.200000</td>\n",
              "      <td>396.225000</td>\n",
              "      <td>16.955000</td>\n",
              "      <td>25.000000</td>\n",
              "    </tr>\n",
              "    <tr>\n",
              "      <th>max</th>\n",
              "      <td>88.976200</td>\n",
              "      <td>100.000000</td>\n",
              "      <td>27.740000</td>\n",
              "      <td>1.000000</td>\n",
              "      <td>0.871000</td>\n",
              "      <td>8.780000</td>\n",
              "      <td>100.000000</td>\n",
              "      <td>12.126500</td>\n",
              "      <td>24.000000</td>\n",
              "      <td>711.000000</td>\n",
              "      <td>22.000000</td>\n",
              "      <td>396.900000</td>\n",
              "      <td>37.970000</td>\n",
              "      <td>50.000000</td>\n",
              "    </tr>\n",
              "  </tbody>\n",
              "</table>\n",
              "</div>"
            ],
            "text/plain": [
              "             crim          zn       indus  ...           b       lstat        medv\n",
              "count  506.000000  506.000000  506.000000  ...  506.000000  506.000000  506.000000\n",
              "mean     3.613524   11.363636   11.136779  ...  356.674032   12.653063   22.532806\n",
              "std      8.601545   23.322453    6.860353  ...   91.294864    7.141062    9.197104\n",
              "min      0.006320    0.000000    0.460000  ...    0.320000    1.730000    5.000000\n",
              "25%      0.082045    0.000000    5.190000  ...  375.377500    6.950000   17.025000\n",
              "50%      0.256510    0.000000    9.690000  ...  391.440000   11.360000   21.200000\n",
              "75%      3.677082   12.500000   18.100000  ...  396.225000   16.955000   25.000000\n",
              "max     88.976200  100.000000   27.740000  ...  396.900000   37.970000   50.000000\n",
              "\n",
              "[8 rows x 14 columns]"
            ]
          },
          "metadata": {
            "tags": []
          },
          "execution_count": 10
        }
      ]
    },
    {
      "cell_type": "code",
      "metadata": {
        "id": "vze-Qkc9wHqR",
        "colab_type": "code",
        "outputId": "151c69b9-0ae7-43a1-cb66-814e011f927d",
        "colab": {
          "base_uri": "https://localhost:8080/",
          "height": 942
        }
      },
      "source": [
        "%matplotlib inline\n",
        "import matplotlib.pyplot as plt\n",
        "housing.hist(bins=50, figsize=(20,15))\n",
        "# save_fig(\"attribute_histogram_plots\")\n",
        "plt.show()"
      ],
      "execution_count": 0,
      "outputs": [
        {
          "output_type": "display_data",
          "data": {
            "image/png": "[encoded data removed]",
            "text/plain": [
              "<Figure size 1440x1080 with 16 Axes>"
            ]
          },
          "metadata": {
            "tags": []
          }
        }
      ]
    },
    {
      "cell_type": "code",
      "metadata": {
        "id": "qlLyGsF6wSjL",
        "colab_type": "code",
        "colab": {}
      },
      "source": [
        "import numpy as np\n",
        "\n",
        "# For illustration only. Sklearn has train_test_split()\n",
        "def split_train_test(data, test_ratio):\n",
        "    \"\"\"An simple implementation of the spliting into train and test sets\"\"\"\n",
        "    shuffled_indices = np.random.permutation(len(data)) # Give it random indexes\n",
        "    test_set_size = int(len(data) * test_ratio) # split into ratio\n",
        "    test_indices = shuffled_indices[:test_set_size] # extract index of test examples\n",
        "    train_indices = shuffled_indices[test_set_size:] # extract index of train examples\n",
        "    return data.iloc[train_indices], data.iloc[test_indices] # return the splited data"
      ],
      "execution_count": 0,
      "outputs": []
    },
    {
      "cell_type": "code",
      "metadata": {
        "id": "Ri_3Ra8ExcDw",
        "colab_type": "code",
        "outputId": "8b33be03-b99d-4265-df4a-8ce57b950aec",
        "colab": {
          "base_uri": "https://localhost:8080/",
          "height": 34
        }
      },
      "source": [
        "train_set, test_set = split_train_test(housing, 0.2)\n",
        "len(train_set)\n",
        "print(train_set.shape)"
      ],
      "execution_count": 0,
      "outputs": [
        {
          "output_type": "stream",
          "text": [
            "(405, 14)\n"
          ],
          "name": "stdout"
        }
      ]
    },
    {
      "cell_type": "code",
      "metadata": {
        "id": "dJG0OSVxxf9_",
        "colab_type": "code",
        "outputId": "ec23a0b8-13d2-41e3-bf72-d418a541b922",
        "colab": {
          "base_uri": "https://localhost:8080/",
          "height": 34
        }
      },
      "source": [
        "len(test_set)"
      ],
      "execution_count": 0,
      "outputs": [
        {
          "output_type": "execute_result",
          "data": {
            "text/plain": [
              "101"
            ]
          },
          "metadata": {
            "tags": []
          },
          "execution_count": 14
        }
      ]
    },
    {
      "cell_type": "code",
      "metadata": {
        "id": "dtekcNoWxlg9",
        "colab_type": "code",
        "outputId": "442ffa79-4d28-4bc8-bb29-bd5e2397002e",
        "colab": {
          "base_uri": "https://localhost:8080/",
          "height": 244
        }
      },
      "source": [
        "test_set.head()"
      ],
      "execution_count": 0,
      "outputs": [
        {
          "output_type": "execute_result",
          "data": {
            "text/html": [
              "<div>\n",
              "<style scoped>\n",
              "    .dataframe tbody tr th:only-of-type {\n",
              "        vertical-align: middle;\n",
              "    }\n",
              "\n",
              "    .dataframe tbody tr th {\n",
              "        vertical-align: top;\n",
              "    }\n",
              "\n",
              "    .dataframe thead th {\n",
              "        text-align: right;\n",
              "    }\n",
              "</style>\n",
              "<table border=\"1\" class=\"dataframe\">\n",
              "  <thead>\n",
              "    <tr style=\"text-align: right;\">\n",
              "      <th></th>\n",
              "      <th>crim</th>\n",
              "      <th>zn</th>\n",
              "      <th>indus</th>\n",
              "      <th>chas</th>\n",
              "      <th>nox</th>\n",
              "      <th>rm</th>\n",
              "      <th>age</th>\n",
              "      <th>dis</th>\n",
              "      <th>rad</th>\n",
              "      <th>tax</th>\n",
              "      <th>ptratio</th>\n",
              "      <th>b</th>\n",
              "      <th>lstat</th>\n",
              "      <th>medv</th>\n",
              "    </tr>\n",
              "  </thead>\n",
              "  <tbody>\n",
              "    <tr>\n",
              "      <th>173</th>\n",
              "      <td>0.09178</td>\n",
              "      <td>0.0</td>\n",
              "      <td>4.05</td>\n",
              "      <td>0</td>\n",
              "      <td>0.510</td>\n",
              "      <td>6.416</td>\n",
              "      <td>84.1</td>\n",
              "      <td>2.6463</td>\n",
              "      <td>5</td>\n",
              "      <td>296.0</td>\n",
              "      <td>16.6</td>\n",
              "      <td>395.50</td>\n",
              "      <td>9.04</td>\n",
              "      <td>23.6</td>\n",
              "    </tr>\n",
              "    <tr>\n",
              "      <th>274</th>\n",
              "      <td>0.05644</td>\n",
              "      <td>40.0</td>\n",
              "      <td>6.41</td>\n",
              "      <td>1</td>\n",
              "      <td>0.447</td>\n",
              "      <td>6.758</td>\n",
              "      <td>32.9</td>\n",
              "      <td>4.0776</td>\n",
              "      <td>4</td>\n",
              "      <td>254.0</td>\n",
              "      <td>17.6</td>\n",
              "      <td>396.90</td>\n",
              "      <td>3.53</td>\n",
              "      <td>32.4</td>\n",
              "    </tr>\n",
              "    <tr>\n",
              "      <th>491</th>\n",
              "      <td>0.10574</td>\n",
              "      <td>0.0</td>\n",
              "      <td>27.74</td>\n",
              "      <td>0</td>\n",
              "      <td>0.609</td>\n",
              "      <td>5.983</td>\n",
              "      <td>98.8</td>\n",
              "      <td>1.8681</td>\n",
              "      <td>4</td>\n",
              "      <td>711.0</td>\n",
              "      <td>20.1</td>\n",
              "      <td>390.11</td>\n",
              "      <td>18.07</td>\n",
              "      <td>13.6</td>\n",
              "    </tr>\n",
              "    <tr>\n",
              "      <th>72</th>\n",
              "      <td>0.09164</td>\n",
              "      <td>0.0</td>\n",
              "      <td>10.81</td>\n",
              "      <td>0</td>\n",
              "      <td>0.413</td>\n",
              "      <td>6.065</td>\n",
              "      <td>7.8</td>\n",
              "      <td>5.2873</td>\n",
              "      <td>4</td>\n",
              "      <td>305.0</td>\n",
              "      <td>19.2</td>\n",
              "      <td>390.91</td>\n",
              "      <td>5.52</td>\n",
              "      <td>22.8</td>\n",
              "    </tr>\n",
              "    <tr>\n",
              "      <th>452</th>\n",
              "      <td>5.09017</td>\n",
              "      <td>0.0</td>\n",
              "      <td>18.10</td>\n",
              "      <td>0</td>\n",
              "      <td>0.713</td>\n",
              "      <td>6.297</td>\n",
              "      <td>91.8</td>\n",
              "      <td>2.3682</td>\n",
              "      <td>24</td>\n",
              "      <td>666.0</td>\n",
              "      <td>20.2</td>\n",
              "      <td>385.09</td>\n",
              "      <td>17.27</td>\n",
              "      <td>16.1</td>\n",
              "    </tr>\n",
              "  </tbody>\n",
              "</table>\n",
              "</div>"
            ],
            "text/plain": [
              "        crim    zn  indus  chas    nox  ...    tax  ptratio       b  lstat  medv\n",
              "173  0.09178   0.0   4.05     0  0.510  ...  296.0     16.6  395.50   9.04  23.6\n",
              "274  0.05644  40.0   6.41     1  0.447  ...  254.0     17.6  396.90   3.53  32.4\n",
              "491  0.10574   0.0  27.74     0  0.609  ...  711.0     20.1  390.11  18.07  13.6\n",
              "72   0.09164   0.0  10.81     0  0.413  ...  305.0     19.2  390.91   5.52  22.8\n",
              "452  5.09017   0.0  18.10     0  0.713  ...  666.0     20.2  385.09  17.27  16.1\n",
              "\n",
              "[5 rows x 14 columns]"
            ]
          },
          "metadata": {
            "tags": []
          },
          "execution_count": 15
        }
      ]
    },
    {
      "cell_type": "code",
      "metadata": {
        "id": "vrQYWJRcxttt",
        "colab_type": "code",
        "colab": {}
      },
      "source": [
        "from sklearn.model_selection import train_test_split\n",
        "\n",
        "train_set, test_set = train_test_split(housing, test_size=0.2, random_state=42)"
      ],
      "execution_count": 0,
      "outputs": []
    },
    {
      "cell_type": "code",
      "metadata": {
        "id": "LV1zS9_3xvmY",
        "colab_type": "code",
        "outputId": "af5dbeb8-6d1e-4768-d646-4713eebd055e",
        "colab": {
          "base_uri": "https://localhost:8080/",
          "height": 244
        }
      },
      "source": [
        "test_set.head()"
      ],
      "execution_count": 0,
      "outputs": [
        {
          "output_type": "execute_result",
          "data": {
            "text/html": [
              "<div>\n",
              "<style scoped>\n",
              "    .dataframe tbody tr th:only-of-type {\n",
              "        vertical-align: middle;\n",
              "    }\n",
              "\n",
              "    .dataframe tbody tr th {\n",
              "        vertical-align: top;\n",
              "    }\n",
              "\n",
              "    .dataframe thead th {\n",
              "        text-align: right;\n",
              "    }\n",
              "</style>\n",
              "<table border=\"1\" class=\"dataframe\">\n",
              "  <thead>\n",
              "    <tr style=\"text-align: right;\">\n",
              "      <th></th>\n",
              "      <th>crim</th>\n",
              "      <th>zn</th>\n",
              "      <th>indus</th>\n",
              "      <th>chas</th>\n",
              "      <th>nox</th>\n",
              "      <th>rm</th>\n",
              "      <th>age</th>\n",
              "      <th>dis</th>\n",
              "      <th>rad</th>\n",
              "      <th>tax</th>\n",
              "      <th>ptratio</th>\n",
              "      <th>b</th>\n",
              "      <th>lstat</th>\n",
              "      <th>medv</th>\n",
              "    </tr>\n",
              "  </thead>\n",
              "  <tbody>\n",
              "    <tr>\n",
              "      <th>173</th>\n",
              "      <td>0.09178</td>\n",
              "      <td>0.0</td>\n",
              "      <td>4.05</td>\n",
              "      <td>0</td>\n",
              "      <td>0.510</td>\n",
              "      <td>6.416</td>\n",
              "      <td>84.1</td>\n",
              "      <td>2.6463</td>\n",
              "      <td>5</td>\n",
              "      <td>296.0</td>\n",
              "      <td>16.6</td>\n",
              "      <td>395.50</td>\n",
              "      <td>9.04</td>\n",
              "      <td>23.6</td>\n",
              "    </tr>\n",
              "    <tr>\n",
              "      <th>274</th>\n",
              "      <td>0.05644</td>\n",
              "      <td>40.0</td>\n",
              "      <td>6.41</td>\n",
              "      <td>1</td>\n",
              "      <td>0.447</td>\n",
              "      <td>6.758</td>\n",
              "      <td>32.9</td>\n",
              "      <td>4.0776</td>\n",
              "      <td>4</td>\n",
              "      <td>254.0</td>\n",
              "      <td>17.6</td>\n",
              "      <td>396.90</td>\n",
              "      <td>3.53</td>\n",
              "      <td>32.4</td>\n",
              "    </tr>\n",
              "    <tr>\n",
              "      <th>491</th>\n",
              "      <td>0.10574</td>\n",
              "      <td>0.0</td>\n",
              "      <td>27.74</td>\n",
              "      <td>0</td>\n",
              "      <td>0.609</td>\n",
              "      <td>5.983</td>\n",
              "      <td>98.8</td>\n",
              "      <td>1.8681</td>\n",
              "      <td>4</td>\n",
              "      <td>711.0</td>\n",
              "      <td>20.1</td>\n",
              "      <td>390.11</td>\n",
              "      <td>18.07</td>\n",
              "      <td>13.6</td>\n",
              "    </tr>\n",
              "    <tr>\n",
              "      <th>72</th>\n",
              "      <td>0.09164</td>\n",
              "      <td>0.0</td>\n",
              "      <td>10.81</td>\n",
              "      <td>0</td>\n",
              "      <td>0.413</td>\n",
              "      <td>6.065</td>\n",
              "      <td>7.8</td>\n",
              "      <td>5.2873</td>\n",
              "      <td>4</td>\n",
              "      <td>305.0</td>\n",
              "      <td>19.2</td>\n",
              "      <td>390.91</td>\n",
              "      <td>5.52</td>\n",
              "      <td>22.8</td>\n",
              "    </tr>\n",
              "    <tr>\n",
              "      <th>452</th>\n",
              "      <td>5.09017</td>\n",
              "      <td>0.0</td>\n",
              "      <td>18.10</td>\n",
              "      <td>0</td>\n",
              "      <td>0.713</td>\n",
              "      <td>6.297</td>\n",
              "      <td>91.8</td>\n",
              "      <td>2.3682</td>\n",
              "      <td>24</td>\n",
              "      <td>666.0</td>\n",
              "      <td>20.2</td>\n",
              "      <td>385.09</td>\n",
              "      <td>17.27</td>\n",
              "      <td>16.1</td>\n",
              "    </tr>\n",
              "  </tbody>\n",
              "</table>\n",
              "</div>"
            ],
            "text/plain": [
              "        crim    zn  indus  chas    nox  ...    tax  ptratio       b  lstat  medv\n",
              "173  0.09178   0.0   4.05     0  0.510  ...  296.0     16.6  395.50   9.04  23.6\n",
              "274  0.05644  40.0   6.41     1  0.447  ...  254.0     17.6  396.90   3.53  32.4\n",
              "491  0.10574   0.0  27.74     0  0.609  ...  711.0     20.1  390.11  18.07  13.6\n",
              "72   0.09164   0.0  10.81     0  0.413  ...  305.0     19.2  390.91   5.52  22.8\n",
              "452  5.09017   0.0  18.10     0  0.713  ...  666.0     20.2  385.09  17.27  16.1\n",
              "\n",
              "[5 rows x 14 columns]"
            ]
          },
          "metadata": {
            "tags": []
          },
          "execution_count": 17
        }
      ]
    },
    {
      "cell_type": "markdown",
      "metadata": {
        "id": "baxjT4f6x3fU",
        "colab_type": "text"
      },
      "source": [
        "They are the same... interesting"
      ]
    },
    {
      "cell_type": "code",
      "metadata": {
        "id": "p-ZY1CPIxvoS",
        "colab_type": "code",
        "outputId": "4455b305-bca1-4927-abf7-b23b7dc6afb1",
        "colab": {
          "base_uri": "https://localhost:8080/",
          "height": 289
        }
      },
      "source": [
        "housing[\"medv\"].hist()"
      ],
      "execution_count": 0,
      "outputs": [
        {
          "output_type": "execute_result",
          "data": {
            "text/plain": [
              "<matplotlib.axes._subplots.AxesSubplot at 0x7fdbe76fb898>"
            ]
          },
          "metadata": {
            "tags": []
          },
          "execution_count": 18
        },
        {
          "output_type": "display_data",
          "data": {
            "image/png": "[encoded data removed]",
            "text/plain": [
              "<Figure size 432x288 with 1 Axes>"
            ]
          },
          "metadata": {
            "tags": []
          }
        }
      ]
    },
    {
      "cell_type": "code",
      "metadata": {
        "id": "RPRYiO8UyOuf",
        "colab_type": "code",
        "colab": {}
      },
      "source": [
        "# Since this histogram is \"tail heavy\" (extends much farther to the right from the median and to the left)\n",
        "# We will try to transform this atrribute to have a more bell-shaped distribution\n",
        "housing[\"medv_cat\"] = pd.cut(housing[\"medv\"],\n",
        "                               bins=[0., 7.5, 15., 22.5, 30., np.inf],\n",
        "                               labels=[1, 8, 15, 22, 29])"
      ],
      "execution_count": 0,
      "outputs": []
    },
    {
      "cell_type": "code",
      "metadata": {
        "id": "Nr0vyEla0Jki",
        "colab_type": "code",
        "outputId": "723890d2-6d6d-4f12-bac6-db2fa14fd4c2",
        "colab": {
          "base_uri": "https://localhost:8080/",
          "height": 119
        }
      },
      "source": [
        "housing[\"medv_cat\"].value_counts()"
      ],
      "execution_count": 0,
      "outputs": [
        {
          "output_type": "execute_result",
          "data": {
            "text/plain": [
              "15    200\n",
              "22    125\n",
              "8      86\n",
              "29     84\n",
              "1      11\n",
              "Name: medv_cat, dtype: int64"
            ]
          },
          "metadata": {
            "tags": []
          },
          "execution_count": 20
        }
      ]
    },
    {
      "cell_type": "code",
      "metadata": {
        "id": "rupYCV9i0OQw",
        "colab_type": "code",
        "outputId": "b3851a7a-a54b-44cc-f638-5a47ddc144af",
        "colab": {
          "base_uri": "https://localhost:8080/",
          "height": 289
        }
      },
      "source": [
        "housing[\"medv_cat\"].hist()"
      ],
      "execution_count": 0,
      "outputs": [
        {
          "output_type": "execute_result",
          "data": {
            "text/plain": [
              "<matplotlib.axes._subplots.AxesSubplot at 0x7fdbe7d29c18>"
            ]
          },
          "metadata": {
            "tags": []
          },
          "execution_count": 21
        },
        {
          "output_type": "display_data",
          "data": {
            "image/png": "[encoded data removed]",
            "text/plain": [
              "<Figure size 432x288 with 1 Axes>"
            ]
          },
          "metadata": {
            "tags": []
          }
        }
      ]
    },
    {
      "cell_type": "code",
      "metadata": {
        "id": "pnj8OUsB0dCe",
        "colab_type": "code",
        "colab": {}
      },
      "source": [
        "from sklearn.model_selection import StratifiedShuffleSplit\n",
        "\n",
        "split = StratifiedShuffleSplit(n_splits=1, test_size=0.2, random_state=42)\n",
        "for train_index, test_index in split.split(housing, housing[\"medv_cat\"]):\n",
        "    strat_train_set = housing.loc[train_index]\n",
        "    strat_test_set = housing.loc[test_index]"
      ],
      "execution_count": 0,
      "outputs": []
    },
    {
      "cell_type": "code",
      "metadata": {
        "id": "jjcmhGyk0hmZ",
        "colab_type": "code",
        "outputId": "c8bf60f4-5392-43cc-a777-157da6613695",
        "colab": {
          "base_uri": "https://localhost:8080/",
          "height": 119
        }
      },
      "source": [
        "strat_test_set[\"medv_cat\"].value_counts() / len(strat_test_set)"
      ],
      "execution_count": 0,
      "outputs": [
        {
          "output_type": "execute_result",
          "data": {
            "text/plain": [
              "15    0.392157\n",
              "22    0.245098\n",
              "8     0.176471\n",
              "29    0.166667\n",
              "1     0.019608\n",
              "Name: medv_cat, dtype: float64"
            ]
          },
          "metadata": {
            "tags": []
          },
          "execution_count": 23
        }
      ]
    },
    {
      "cell_type": "code",
      "metadata": {
        "id": "hNuTkgcP0o8a",
        "colab_type": "code",
        "outputId": "6f941f59-d3f9-48ed-81b3-b809806e5eae",
        "colab": {
          "base_uri": "https://localhost:8080/",
          "height": 119
        }
      },
      "source": [
        "housing[\"medv_cat\"].value_counts() / len(housing)"
      ],
      "execution_count": 0,
      "outputs": [
        {
          "output_type": "execute_result",
          "data": {
            "text/plain": [
              "15    0.395257\n",
              "22    0.247036\n",
              "8     0.169960\n",
              "29    0.166008\n",
              "1     0.021739\n",
              "Name: medv_cat, dtype: float64"
            ]
          },
          "metadata": {
            "tags": []
          },
          "execution_count": 24
        }
      ]
    },
    {
      "cell_type": "code",
      "metadata": {
        "id": "aSFEvMoM0soT",
        "colab_type": "code",
        "colab": {}
      },
      "source": [
        "def medv_cat_proportions(data):\n",
        "    return data[\"medv_cat\"].value_counts() / len(data)\n",
        "\n",
        "train_set, test_set = train_test_split(housing, test_size=0.2, random_state=42)\n",
        "\n",
        "compare_props = pd.DataFrame({\n",
        "    \"Overall\": medv_cat_proportions(housing),\n",
        "    \"Stratified\": medv_cat_proportions(strat_test_set),\n",
        "    \"Random\": medv_cat_proportions(test_set),\n",
        "}).sort_index()\n",
        "compare_props[\"Rand. %error\"] = 100 * compare_props[\"Random\"] / compare_props[\"Overall\"] - 100\n",
        "compare_props[\"Strat. %error\"] = 100 * compare_props[\"Stratified\"] / compare_props[\"Overall\"] - 100"
      ],
      "execution_count": 0,
      "outputs": []
    },
    {
      "cell_type": "code",
      "metadata": {
        "id": "jTmbw-x_09Tl",
        "colab_type": "code",
        "outputId": "15a0cce6-185e-4966-df2f-0324915a268c",
        "colab": {
          "base_uri": "https://localhost:8080/",
          "height": 204
        }
      },
      "source": [
        "compare_props"
      ],
      "execution_count": 0,
      "outputs": [
        {
          "output_type": "execute_result",
          "data": {
            "text/html": [
              "<div>\n",
              "<style scoped>\n",
              "    .dataframe tbody tr th:only-of-type {\n",
              "        vertical-align: middle;\n",
              "    }\n",
              "\n",
              "    .dataframe tbody tr th {\n",
              "        vertical-align: top;\n",
              "    }\n",
              "\n",
              "    .dataframe thead th {\n",
              "        text-align: right;\n",
              "    }\n",
              "</style>\n",
              "<table border=\"1\" class=\"dataframe\">\n",
              "  <thead>\n",
              "    <tr style=\"text-align: right;\">\n",
              "      <th></th>\n",
              "      <th>Overall</th>\n",
              "      <th>Stratified</th>\n",
              "      <th>Random</th>\n",
              "      <th>Rand. %error</th>\n",
              "      <th>Strat. %error</th>\n",
              "    </tr>\n",
              "  </thead>\n",
              "  <tbody>\n",
              "    <tr>\n",
              "      <th>1</th>\n",
              "      <td>0.021739</td>\n",
              "      <td>0.019608</td>\n",
              "      <td>0.029412</td>\n",
              "      <td>35.294118</td>\n",
              "      <td>-9.803922</td>\n",
              "    </tr>\n",
              "    <tr>\n",
              "      <th>8</th>\n",
              "      <td>0.169960</td>\n",
              "      <td>0.176471</td>\n",
              "      <td>0.166667</td>\n",
              "      <td>-1.937984</td>\n",
              "      <td>3.830369</td>\n",
              "    </tr>\n",
              "    <tr>\n",
              "      <th>15</th>\n",
              "      <td>0.395257</td>\n",
              "      <td>0.392157</td>\n",
              "      <td>0.441176</td>\n",
              "      <td>11.617647</td>\n",
              "      <td>-0.784314</td>\n",
              "    </tr>\n",
              "    <tr>\n",
              "      <th>22</th>\n",
              "      <td>0.247036</td>\n",
              "      <td>0.245098</td>\n",
              "      <td>0.254902</td>\n",
              "      <td>3.184314</td>\n",
              "      <td>-0.784314</td>\n",
              "    </tr>\n",
              "    <tr>\n",
              "      <th>29</th>\n",
              "      <td>0.166008</td>\n",
              "      <td>0.166667</td>\n",
              "      <td>0.107843</td>\n",
              "      <td>-35.037348</td>\n",
              "      <td>0.396825</td>\n",
              "    </tr>\n",
              "  </tbody>\n",
              "</table>\n",
              "</div>"
            ],
            "text/plain": [
              "     Overall  Stratified    Random  Rand. %error  Strat. %error\n",
              "1   0.021739    0.019608  0.029412     35.294118      -9.803922\n",
              "8   0.169960    0.176471  0.166667     -1.937984       3.830369\n",
              "15  0.395257    0.392157  0.441176     11.617647      -0.784314\n",
              "22  0.247036    0.245098  0.254902      3.184314      -0.784314\n",
              "29  0.166008    0.166667  0.107843    -35.037348       0.396825"
            ]
          },
          "metadata": {
            "tags": []
          },
          "execution_count": 26
        }
      ]
    },
    {
      "cell_type": "code",
      "metadata": {
        "id": "al8oOMmN1Cn4",
        "colab_type": "code",
        "colab": {}
      },
      "source": [
        "for set_ in (strat_train_set, strat_test_set):\n",
        "    set_.drop(\"medv_cat\", axis=1, inplace=True)"
      ],
      "execution_count": 0,
      "outputs": []
    },
    {
      "cell_type": "markdown",
      "metadata": {
        "id": "Ahh7Kwon1Kaw",
        "colab_type": "text"
      },
      "source": [
        "STEP 3. DISCOVER AND VISUALIZE DATA TO GAIN INSIGHTS"
      ]
    },
    {
      "cell_type": "code",
      "metadata": {
        "id": "ahj1fsiU1ICl",
        "colab_type": "code",
        "colab": {}
      },
      "source": [
        "# Make a copy of the stratified train set\n",
        "housing = strat_train_set.copy()"
      ],
      "execution_count": 0,
      "outputs": []
    },
    {
      "cell_type": "code",
      "metadata": {
        "id": "TA_hnWVw1pa1",
        "colab_type": "code",
        "colab": {}
      },
      "source": [
        "#housing.plot(kind=\"scatter\", x=\"longitude\", y=\"latitude\")\n",
        "# save_fig(\"bad_visualization_plot\")\n",
        "\n",
        "# Add alpha channel for transparent so that the plot is less crowded.\n",
        "#housing.plot(kind=\"scatter\", x=\"longitude\", y=\"latitude\", alpha=0.1)\n",
        "# save_fig(\"better_visualization_plot\")\n",
        "\n",
        "# Incorporate the population into the circle size\n",
        "# Add color (jet map) for the value of the housing\n",
        "#housing.plot(kind=\"scatter\", x=\"longitude\", y=\"latitude\", alpha=0.4,\n",
        "#    s=housing[\"population\"]/100, label=\"population\", figsize=(10,7),\n",
        "#    c=\"median_house_value\", cmap=plt.get_cmap(\"jet\"), colorbar=True,\n",
        "#    sharex=False)\n",
        "#plt.legend()\n",
        "# save_fig(\"housing_prices_scatterplot\")\n",
        "\n"
      ],
      "execution_count": 0,
      "outputs": []
    },
    {
      "cell_type": "markdown",
      "metadata": {
        "id": "KqUlk3-Q2UUn",
        "colab_type": "text"
      },
      "source": [
        " Above is the making of the map, which is not possible with this data because the longitude and latitude values are not given."
      ]
    },
    {
      "cell_type": "code",
      "metadata": {
        "id": "iNDrORpM35iV",
        "colab_type": "code",
        "outputId": "9e4919b4-44a0-4c73-d17b-d11ecacb4510",
        "colab": {
          "base_uri": "https://localhost:8080/",
          "height": 34
        }
      },
      "source": [
        "# Use corr() to see the correlations (aka Standard Correlation Coefficient or Pearson's r) among the features of the dataset\n",
        "corr_matrix = housing.corr()\n",
        "corr_matrix.shape"
      ],
      "execution_count": 0,
      "outputs": [
        {
          "output_type": "execute_result",
          "data": {
            "text/plain": [
              "(14, 14)"
            ]
          },
          "metadata": {
            "tags": []
          },
          "execution_count": 29
        }
      ]
    },
    {
      "cell_type": "code",
      "metadata": {
        "id": "mAIMUAxk3v60",
        "colab_type": "code",
        "outputId": "9d40e65f-3d60-4f4b-859a-c93606064ced",
        "colab": {
          "base_uri": "https://localhost:8080/",
          "height": 272
        }
      },
      "source": [
        "# Let's look at how much each feature correlates to the house value \n",
        "corr_matrix[\"medv\"].sort_values(ascending=False)"
      ],
      "execution_count": 0,
      "outputs": [
        {
          "output_type": "execute_result",
          "data": {
            "text/plain": [
              "medv       1.000000\n",
              "rm         0.701072\n",
              "zn         0.382548\n",
              "b          0.329312\n",
              "dis        0.268066\n",
              "chas       0.176532\n",
              "rad       -0.371562\n",
              "crim      -0.378276\n",
              "age       -0.396913\n",
              "nox       -0.440471\n",
              "tax       -0.460798\n",
              "ptratio   -0.493600\n",
              "indus     -0.496390\n",
              "lstat     -0.736081\n",
              "Name: medv, dtype: float64"
            ]
          },
          "metadata": {
            "tags": []
          },
          "execution_count": 30
        }
      ]
    },
    {
      "cell_type": "code",
      "metadata": {
        "id": "4HFWd8Qu4DCH",
        "colab_type": "code",
        "outputId": "f3fd53f9-d185-4c37-cb7a-933632036171",
        "colab": {
          "base_uri": "https://localhost:8080/",
          "height": 818
        }
      },
      "source": [
        "# from pandas.tools.plotting import scatter_matrix # For older versions of Pandas\n",
        "from pandas.plotting import scatter_matrix\n",
        "\n",
        "attributes = [\"medv\", \"rm\", \"zn\",\n",
        "              \"b\"]\n",
        "scatter_matrix(housing[attributes], figsize=(12, 8))\n",
        "# save_fig(\"scatter_matrix_plot\")"
      ],
      "execution_count": 0,
      "outputs": [
        {
          "output_type": "execute_result",
          "data": {
            "text/plain": [
              "array([[<matplotlib.axes._subplots.AxesSubplot object at 0x7fdbe77d1550>,\n",
              "        <matplotlib.axes._subplots.AxesSubplot object at 0x7fdbe77ad0b8>,\n",
              "        <matplotlib.axes._subplots.AxesSubplot object at 0x7fdbe77e5630>,\n",
              "        <matplotlib.axes._subplots.AxesSubplot object at 0x7fdbe74ddba8>],\n",
              "       [<matplotlib.axes._subplots.AxesSubplot object at 0x7fdbe74b9160>,\n",
              "        <matplotlib.axes._subplots.AxesSubplot object at 0x7fdbe49f16d8>,\n",
              "        <matplotlib.axes._subplots.AxesSubplot object at 0x7fdbe4a06c50>,\n",
              "        <matplotlib.axes._subplots.AxesSubplot object at 0x7fdbe770c240>],\n",
              "       [<matplotlib.axes._subplots.AxesSubplot object at 0x7fdbe770c278>,\n",
              "        <matplotlib.axes._subplots.AxesSubplot object at 0x7fdbe7832cf8>,\n",
              "        <matplotlib.axes._subplots.AxesSubplot object at 0x7fdbe76bc2b0>,\n",
              "        <matplotlib.axes._subplots.AxesSubplot object at 0x7fdbe76c8828>],\n",
              "       [<matplotlib.axes._subplots.AxesSubplot object at 0x7fdbe4990da0>,\n",
              "        <matplotlib.axes._subplots.AxesSubplot object at 0x7fdbe4a6d358>,\n",
              "        <matplotlib.axes._subplots.AxesSubplot object at 0x7fdbe4aa48d0>,\n",
              "        <matplotlib.axes._subplots.AxesSubplot object at 0x7fdbe4914e48>]],\n",
              "      dtype=object)"
            ]
          },
          "metadata": {
            "tags": []
          },
          "execution_count": 31
        },
        {
          "output_type": "display_data",
          "data": {
            "image/png": "[encoded data removed]",
            "text/plain": [
              "<Figure size 864x576 with 16 Axes>"
            ]
          },
          "metadata": {
            "tags": []
          }
        }
      ]
    },
    {
      "cell_type": "code",
      "metadata": {
        "id": "cLJEoCtJ8NjS",
        "colab_type": "code",
        "outputId": "6e7240f6-c5b8-46ac-b68b-a76467612e0f",
        "colab": {
          "base_uri": "https://localhost:8080/",
          "height": 307
        }
      },
      "source": [
        "housing.plot(kind=\"scatter\", x=\"rm\", y=\"medv\",\n",
        "             alpha=0.3)\n",
        "plt.axis([0, 9, 0, 55])\n",
        "# save_fig(\"rooms_vs_house_value_scatterplot\")"
      ],
      "execution_count": 0,
      "outputs": [
        {
          "output_type": "execute_result",
          "data": {
            "text/plain": [
              "[0, 9, 0, 55]"
            ]
          },
          "metadata": {
            "tags": []
          },
          "execution_count": 32
        },
        {
          "output_type": "display_data",
          "data": {
            "image/png": "[encoded data removed]",
            "text/plain": [
              "<Figure size 432x288 with 1 Axes>"
            ]
          },
          "metadata": {
            "tags": []
          }
        }
      ]
    },
    {
      "cell_type": "code",
      "metadata": {
        "id": "tz_rIbpc88NZ",
        "colab_type": "code",
        "colab": {}
      },
      "source": [
        "#housing[\"rooms_per_household\"] = housing[\"total_rooms\"]/housing[\"households\"]\n",
        "#housing[\"bedrooms_per_room\"] = housing[\"total_bedrooms\"]/housing[\"total_rooms\"]\n",
        "#housing[\"population_per_household\"]=housing[\"population\"]/housing[\"households\"]\n",
        "#housing.shape"
      ],
      "execution_count": 0,
      "outputs": []
    },
    {
      "cell_type": "markdown",
      "metadata": {
        "id": "8NhTZ7TK9pPU",
        "colab_type": "text"
      },
      "source": [
        "Information on total bedrooms and population not given, average rooms already given."
      ]
    },
    {
      "cell_type": "code",
      "metadata": {
        "id": "0Ltl98PQ9x_s",
        "colab_type": "code",
        "outputId": "971c93b9-9f7b-412c-f4ba-0396da14451f",
        "colab": {
          "base_uri": "https://localhost:8080/",
          "height": 272
        }
      },
      "source": [
        "#corr_matrix = housing.corr()\n",
        "#corr_matrix[\"medv\"].sort_values(ascending=False)"
      ],
      "execution_count": 0,
      "outputs": [
        {
          "output_type": "execute_result",
          "data": {
            "text/plain": [
              "medv       1.000000\n",
              "rm         0.695360\n",
              "zn         0.360445\n",
              "b          0.333461\n",
              "dis        0.249929\n",
              "chas       0.175260\n",
              "age       -0.376955\n",
              "rad       -0.381626\n",
              "crim      -0.388305\n",
              "nox       -0.427321\n",
              "tax       -0.468536\n",
              "indus     -0.483725\n",
              "ptratio   -0.507787\n",
              "lstat     -0.737663\n",
              "Name: medv, dtype: float64"
            ]
          },
          "metadata": {
            "tags": []
          },
          "execution_count": 71
        }
      ]
    },
    {
      "cell_type": "markdown",
      "metadata": {
        "id": "c9_Xeksf9-Hr",
        "colab_type": "text"
      },
      "source": [
        "Nothing changed so no need to redo."
      ]
    },
    {
      "cell_type": "code",
      "metadata": {
        "id": "yU_aWRlQ-Cn-",
        "colab_type": "code",
        "outputId": "bc3354b3-9297-4839-e8fa-da060529b28d",
        "colab": {
          "base_uri": "https://localhost:8080/",
          "height": 337
        }
      },
      "source": [
        "housing.describe()"
      ],
      "execution_count": 0,
      "outputs": [
        {
          "output_type": "execute_result",
          "data": {
            "text/html": [
              "<div>\n",
              "<style scoped>\n",
              "    .dataframe tbody tr th:only-of-type {\n",
              "        vertical-align: middle;\n",
              "    }\n",
              "\n",
              "    .dataframe tbody tr th {\n",
              "        vertical-align: top;\n",
              "    }\n",
              "\n",
              "    .dataframe thead th {\n",
              "        text-align: right;\n",
              "    }\n",
              "</style>\n",
              "<table border=\"1\" class=\"dataframe\">\n",
              "  <thead>\n",
              "    <tr style=\"text-align: right;\">\n",
              "      <th></th>\n",
              "      <th>crim</th>\n",
              "      <th>zn</th>\n",
              "      <th>indus</th>\n",
              "      <th>chas</th>\n",
              "      <th>nox</th>\n",
              "      <th>rm</th>\n",
              "      <th>age</th>\n",
              "      <th>dis</th>\n",
              "      <th>rad</th>\n",
              "      <th>tax</th>\n",
              "      <th>ptratio</th>\n",
              "      <th>b</th>\n",
              "      <th>lstat</th>\n",
              "      <th>medv</th>\n",
              "    </tr>\n",
              "  </thead>\n",
              "  <tbody>\n",
              "    <tr>\n",
              "      <th>count</th>\n",
              "      <td>404.000000</td>\n",
              "      <td>404.000000</td>\n",
              "      <td>404.000000</td>\n",
              "      <td>404.000000</td>\n",
              "      <td>404.000000</td>\n",
              "      <td>404.000000</td>\n",
              "      <td>404.000000</td>\n",
              "      <td>404.000000</td>\n",
              "      <td>404.000000</td>\n",
              "      <td>404.000000</td>\n",
              "      <td>404.000000</td>\n",
              "      <td>404.000000</td>\n",
              "      <td>404.000000</td>\n",
              "      <td>404.000000</td>\n",
              "    </tr>\n",
              "    <tr>\n",
              "      <th>mean</th>\n",
              "      <td>3.614852</td>\n",
              "      <td>11.888614</td>\n",
              "      <td>11.190520</td>\n",
              "      <td>0.056931</td>\n",
              "      <td>0.555616</td>\n",
              "      <td>6.293215</td>\n",
              "      <td>68.322030</td>\n",
              "      <td>3.844561</td>\n",
              "      <td>9.435644</td>\n",
              "      <td>405.809406</td>\n",
              "      <td>18.406188</td>\n",
              "      <td>357.392673</td>\n",
              "      <td>12.605322</td>\n",
              "      <td>22.557673</td>\n",
              "    </tr>\n",
              "    <tr>\n",
              "      <th>std</th>\n",
              "      <td>8.708215</td>\n",
              "      <td>23.765500</td>\n",
              "      <td>6.964772</td>\n",
              "      <td>0.231997</td>\n",
              "      <td>0.118829</td>\n",
              "      <td>0.709809</td>\n",
              "      <td>28.687598</td>\n",
              "      <td>2.173878</td>\n",
              "      <td>8.652848</td>\n",
              "      <td>167.580611</td>\n",
              "      <td>2.204740</td>\n",
              "      <td>89.464577</td>\n",
              "      <td>7.096953</td>\n",
              "      <td>9.274454</td>\n",
              "    </tr>\n",
              "    <tr>\n",
              "      <th>min</th>\n",
              "      <td>0.006320</td>\n",
              "      <td>0.000000</td>\n",
              "      <td>0.460000</td>\n",
              "      <td>0.000000</td>\n",
              "      <td>0.385000</td>\n",
              "      <td>3.561000</td>\n",
              "      <td>2.900000</td>\n",
              "      <td>1.129600</td>\n",
              "      <td>1.000000</td>\n",
              "      <td>187.000000</td>\n",
              "      <td>12.600000</td>\n",
              "      <td>0.320000</td>\n",
              "      <td>1.730000</td>\n",
              "      <td>5.000000</td>\n",
              "    </tr>\n",
              "    <tr>\n",
              "      <th>25%</th>\n",
              "      <td>0.086097</td>\n",
              "      <td>0.000000</td>\n",
              "      <td>5.175000</td>\n",
              "      <td>0.000000</td>\n",
              "      <td>0.448000</td>\n",
              "      <td>5.884750</td>\n",
              "      <td>43.625000</td>\n",
              "      <td>2.102700</td>\n",
              "      <td>4.000000</td>\n",
              "      <td>279.750000</td>\n",
              "      <td>16.900000</td>\n",
              "      <td>375.442500</td>\n",
              "      <td>6.987500</td>\n",
              "      <td>16.800000</td>\n",
              "    </tr>\n",
              "    <tr>\n",
              "      <th>50%</th>\n",
              "      <td>0.257780</td>\n",
              "      <td>0.000000</td>\n",
              "      <td>9.690000</td>\n",
              "      <td>0.000000</td>\n",
              "      <td>0.538000</td>\n",
              "      <td>6.198500</td>\n",
              "      <td>79.200000</td>\n",
              "      <td>3.207450</td>\n",
              "      <td>5.000000</td>\n",
              "      <td>330.000000</td>\n",
              "      <td>19.050000</td>\n",
              "      <td>391.260000</td>\n",
              "      <td>11.360000</td>\n",
              "      <td>21.150000</td>\n",
              "    </tr>\n",
              "    <tr>\n",
              "      <th>75%</th>\n",
              "      <td>3.489463</td>\n",
              "      <td>20.000000</td>\n",
              "      <td>18.100000</td>\n",
              "      <td>0.000000</td>\n",
              "      <td>0.624000</td>\n",
              "      <td>6.626000</td>\n",
              "      <td>94.100000</td>\n",
              "      <td>5.287300</td>\n",
              "      <td>24.000000</td>\n",
              "      <td>666.000000</td>\n",
              "      <td>20.200000</td>\n",
              "      <td>396.210000</td>\n",
              "      <td>16.992500</td>\n",
              "      <td>25.000000</td>\n",
              "    </tr>\n",
              "    <tr>\n",
              "      <th>max</th>\n",
              "      <td>88.976200</td>\n",
              "      <td>100.000000</td>\n",
              "      <td>27.740000</td>\n",
              "      <td>1.000000</td>\n",
              "      <td>0.871000</td>\n",
              "      <td>8.780000</td>\n",
              "      <td>100.000000</td>\n",
              "      <td>12.126500</td>\n",
              "      <td>24.000000</td>\n",
              "      <td>711.000000</td>\n",
              "      <td>22.000000</td>\n",
              "      <td>396.900000</td>\n",
              "      <td>36.980000</td>\n",
              "      <td>50.000000</td>\n",
              "    </tr>\n",
              "  </tbody>\n",
              "</table>\n",
              "</div>"
            ],
            "text/plain": [
              "             crim          zn       indus  ...           b       lstat        medv\n",
              "count  404.000000  404.000000  404.000000  ...  404.000000  404.000000  404.000000\n",
              "mean     3.614852   11.888614   11.190520  ...  357.392673   12.605322   22.557673\n",
              "std      8.708215   23.765500    6.964772  ...   89.464577    7.096953    9.274454\n",
              "min      0.006320    0.000000    0.460000  ...    0.320000    1.730000    5.000000\n",
              "25%      0.086097    0.000000    5.175000  ...  375.442500    6.987500   16.800000\n",
              "50%      0.257780    0.000000    9.690000  ...  391.260000   11.360000   21.150000\n",
              "75%      3.489463   20.000000   18.100000  ...  396.210000   16.992500   25.000000\n",
              "max     88.976200  100.000000   27.740000  ...  396.900000   36.980000   50.000000\n",
              "\n",
              "[8 rows x 14 columns]"
            ]
          },
          "metadata": {
            "tags": []
          },
          "execution_count": 33
        }
      ]
    },
    {
      "cell_type": "markdown",
      "metadata": {
        "id": "uWbxB9KP-ePB",
        "colab_type": "text"
      },
      "source": [
        "STEP 4"
      ]
    },
    {
      "cell_type": "code",
      "metadata": {
        "id": "OKDlZ72--gTc",
        "colab_type": "code",
        "colab": {}
      },
      "source": [
        "# Create the features and labels for training\n",
        "#housing = strat_train_set.drop(\"medv\", axis=1) # drop labels for training set\n",
        "#housing_labels = strat_train_set[\"medv\"].copy()"
      ],
      "execution_count": 0,
      "outputs": []
    },
    {
      "cell_type": "markdown",
      "metadata": {
        "id": "nQd8clfdBFga",
        "colab_type": "text"
      },
      "source": [
        "**Don't know if this is needed, because there are no labels in the original csv.**"
      ]
    },
    {
      "cell_type": "code",
      "metadata": {
        "id": "YPZ_hHENDCBK",
        "colab_type": "code",
        "colab": {}
      },
      "source": [
        "# Check to see if there's any missing value in the data with .isnull()\n",
        "#sample_incomplete_rows = housing[housing.isnull().any(axis=1)].head()\n",
        "#sample_incomplete_rows"
      ],
      "execution_count": 0,
      "outputs": []
    },
    {
      "cell_type": "code",
      "metadata": {
        "id": "KU8Viq0IBX2_",
        "colab_type": "code",
        "colab": {}
      },
      "source": [
        "# Scikit-Learn has a handy class to take care of this: the SimpleImputer class.\n",
        "#from sklearn.impute import SimpleImputer\n",
        "#imputer = SimpleImputer(strategy=\"median\")"
      ],
      "execution_count": 0,
      "outputs": []
    },
    {
      "cell_type": "code",
      "metadata": {
        "id": "M8D2JQ9kpkRA",
        "colab_type": "code",
        "colab": {}
      },
      "source": [
        "from sklearn.impute import SimpleImputer\n",
        "imputer = SimpleImputer(strategy=\"median\")\n",
        "\n",
        "housing_num = housing.select_dtypes(include=[np.number])"
      ],
      "execution_count": 0,
      "outputs": []
    },
    {
      "cell_type": "code",
      "metadata": {
        "id": "UNVWsWywB96E",
        "colab_type": "code",
        "outputId": "2c15ce21-7287-4425-c1a7-f36ba2e342a8",
        "colab": {
          "base_uri": "https://localhost:8080/",
          "height": 51
        }
      },
      "source": [
        "imputer.fit(housing_num)"
      ],
      "execution_count": 0,
      "outputs": [
        {
          "output_type": "execute_result",
          "data": {
            "text/plain": [
              "SimpleImputer(add_indicator=False, copy=True, fill_value=None,\n",
              "              missing_values=nan, strategy='median', verbose=0)"
            ]
          },
          "metadata": {
            "tags": []
          },
          "execution_count": 64
        }
      ]
    },
    {
      "cell_type": "code",
      "metadata": {
        "id": "jMWe-Npcp30t",
        "colab_type": "code",
        "outputId": "75c6d872-72bc-4e80-e62f-089d5b1ab59a",
        "colab": {
          "base_uri": "https://localhost:8080/",
          "height": 108
        }
      },
      "source": [
        "imputer.statistics_"
      ],
      "execution_count": 0,
      "outputs": [
        {
          "output_type": "execute_result",
          "data": {
            "text/plain": [
              "array([2.57780e-01, 0.00000e+00, 9.69000e+00, 0.00000e+00, 5.38000e-01,\n",
              "       6.19850e+00, 7.92000e+01, 3.20745e+00, 5.00000e+00, 3.30000e+02,\n",
              "       1.90500e+01, 3.91260e+02, 1.13600e+01, 2.11500e+01])"
            ]
          },
          "metadata": {
            "tags": []
          },
          "execution_count": 57
        }
      ]
    },
    {
      "cell_type": "code",
      "metadata": {
        "id": "ztdJdT7vp6MS",
        "colab_type": "code",
        "outputId": "2780a380-3ea5-427a-a9ee-525873fd8eb7",
        "colab": {
          "base_uri": "https://localhost:8080/",
          "height": 108
        }
      },
      "source": [
        "housing_num.median().values"
      ],
      "execution_count": 0,
      "outputs": [
        {
          "output_type": "execute_result",
          "data": {
            "text/plain": [
              "array([2.57780e-01, 0.00000e+00, 9.69000e+00, 0.00000e+00, 5.38000e-01,\n",
              "       6.19850e+00, 7.92000e+01, 3.20745e+00, 5.00000e+00, 3.30000e+02,\n",
              "       1.90500e+01, 3.91260e+02, 1.13600e+01, 2.11500e+01])"
            ]
          },
          "metadata": {
            "tags": []
          },
          "execution_count": 58
        }
      ]
    },
    {
      "cell_type": "code",
      "metadata": {
        "id": "BCMD3j4yp81e",
        "colab_type": "code",
        "outputId": "a1c59e08-9c7f-410c-c82f-a8c8819eb3a8",
        "colab": {
          "base_uri": "https://localhost:8080/",
          "height": 238
        }
      },
      "source": [
        "X = imputer.transform(housing_num)\n",
        "print(X)"
      ],
      "execution_count": 0,
      "outputs": [
        {
          "output_type": "stream",
          "text": [
            "[[1.09600e-02 5.50000e+01 2.25000e+00 ... 3.94720e+02 8.23000e+00\n",
            "  2.20000e+01]\n",
            " [4.92980e-01 0.00000e+00 9.90000e+00 ... 3.96900e+02 4.54000e+00\n",
            "  2.28000e+01]\n",
            " [1.28023e+01 0.00000e+00 1.81000e+01 ... 2.40520e+02 2.37900e+01\n",
            "  1.08000e+01]\n",
            " ...\n",
            " [1.39140e-01 0.00000e+00 4.05000e+00 ... 3.96900e+02 1.46900e+01\n",
            "  2.31000e+01]\n",
            " [2.61690e-01 0.00000e+00 9.90000e+00 ... 3.96300e+02 1.17200e+01\n",
            "  1.94000e+01]\n",
            " [6.71772e+00 0.00000e+00 1.81000e+01 ... 3.20000e-01 1.74400e+01\n",
            "  1.34000e+01]]\n"
          ],
          "name": "stdout"
        }
      ]
    },
    {
      "cell_type": "markdown",
      "metadata": {
        "id": "QQjuYfOBa6mq",
        "colab_type": "text"
      },
      "source": [
        "Not all imputer stuff not needed"
      ]
    },
    {
      "cell_type": "code",
      "metadata": {
        "id": "IlLiS1tBjNFz",
        "colab_type": "code",
        "colab": {}
      },
      "source": [
        "from sklearn.base import BaseEstimator, TransformerMixin\n",
        "\n",
        "rm_ix, b_ix, zn_ix, medv_ix = 5, 11, 1, 13\n",
        "\n",
        "class CombinedAttributesAdder(BaseEstimator, TransformerMixin):\n",
        "    def fit(self, X, y=None):\n",
        "        return self  # nothing else to do\n",
        "    def transform(self, X, y=None):\n",
        "        rm_per_medv = X[:, rm_ix] / X[:, medv_ix]\n",
        "        b_per_medv = X[:, b_ix] / X[:, medv_ix]\n",
        "        zn_per_medv = X[:, zn_ix] / X[:, medv_ix]\n",
        "        return np.c_[X, rm_per_medv, b_per_medv, zn_per_medv]\n",
        "\n",
        "# When set to false, that feature will not be added --> so here it adds two features only\n",
        "attr_adder = CombinedAttributesAdder()\n",
        "housing_extra_attribs = attr_adder.transform(housing.values)"
      ],
      "execution_count": 0,
      "outputs": []
    },
    {
      "cell_type": "code",
      "metadata": {
        "id": "_RxlZvd6r3mg",
        "colab_type": "code",
        "colab": {}
      },
      "source": [
        "from sklearn.pipeline import Pipeline\n",
        "from sklearn.preprocessing import StandardScaler\n",
        "num_pipeline = Pipeline([\n",
        "        ('imputer', SimpleImputer(strategy=\"median\")),\n",
        "        ('attribs_adder', CombinedAttributesAdder()),\n",
        "        ('std_scaler', StandardScaler()),\n",
        "    ])\n",
        "\n",
        "housing_num_tr = num_pipeline.fit_transform(housing_num)"
      ],
      "execution_count": 0,
      "outputs": []
    },
    {
      "cell_type": "code",
      "metadata": {
        "id": "z8tuZrAFr8ej",
        "colab_type": "code",
        "outputId": "fa5c3529-4844-4573-96a8-c11d4f92c1c0",
        "colab": {
          "base_uri": "https://localhost:8080/",
          "height": 238
        }
      },
      "source": [
        "housing_num_tr"
      ],
      "execution_count": 0,
      "outputs": [
        {
          "output_type": "execute_result",
          "data": {
            "text/plain": [
              "array([[-0.41436279,  1.81628165, -1.28526893, ..., -0.2077238 ,\n",
              "         0.0125589 ,  2.38891549],\n",
              "       [-0.35894182, -0.50086701, -0.18552221, ..., -0.22524378,\n",
              "        -0.04734017, -0.50237538],\n",
              "       [ 1.05634047, -0.50086701,  0.99329126, ...,  1.6791432 ,\n",
              "         0.49816455, -0.50237538],\n",
              "       ...,\n",
              "       [-0.3996251 , -0.50086701, -1.026505  , ..., -0.60301834,\n",
              "        -0.07270294, -0.50237538],\n",
              "       [-0.38553473, -0.50086701, -0.18552221, ..., -0.07765033,\n",
              "         0.29145674, -0.50237538],\n",
              "       [ 0.35675688, -0.50086701,  0.99329126, ...,  1.38797685,\n",
              "        -1.99759404, -0.50237538]])"
            ]
          },
          "metadata": {
            "tags": []
          },
          "execution_count": 67
        }
      ]
    },
    {
      "cell_type": "code",
      "metadata": {
        "id": "x1pw_RXGsB35",
        "colab_type": "code",
        "colab": {}
      },
      "source": [
        "from sklearn.compose import ColumnTransformer\n",
        "\n",
        "num_attribs = list(housing_num)\n",
        "\n",
        "full_pipeline = ColumnTransformer([\n",
        "        (\"num\", num_pipeline, num_attribs)\n",
        "    ])\n",
        "\n",
        "housing_prepared = full_pipeline.fit_transform(housing)"
      ],
      "execution_count": 0,
      "outputs": []
    },
    {
      "cell_type": "code",
      "metadata": {
        "id": "M9oO9UTPoMYP",
        "colab_type": "code",
        "outputId": "d0c39b78-3c40-4e9a-ba28-bbbcd7533807",
        "colab": {
          "base_uri": "https://localhost:8080/",
          "height": 51
        }
      },
      "source": [
        "print(housing.shape)\n",
        "print(housing_prepared.shape)"
      ],
      "execution_count": 0,
      "outputs": [
        {
          "output_type": "stream",
          "text": [
            "(404, 14)\n",
            "(404, 17)\n"
          ],
          "name": "stdout"
        }
      ]
    },
    {
      "cell_type": "code",
      "metadata": {
        "id": "TGE-3Zo5sMav",
        "colab_type": "code",
        "outputId": "b4a9736d-6f5a-43fc-8fa4-1ba76d393b73",
        "colab": {
          "base_uri": "https://localhost:8080/",
          "height": 238
        }
      },
      "source": [
        "housing_prepared"
      ],
      "execution_count": 0,
      "outputs": [
        {
          "output_type": "execute_result",
          "data": {
            "text/plain": [
              "array([[-0.41436279,  1.81628165, -1.28526893, ..., -0.2077238 ,\n",
              "         0.0125589 ,  2.38891549],\n",
              "       [-0.35894182, -0.50086701, -0.18552221, ..., -0.22524378,\n",
              "        -0.04734017, -0.50237538],\n",
              "       [ 1.05634047, -0.50086701,  0.99329126, ...,  1.6791432 ,\n",
              "         0.49816455, -0.50237538],\n",
              "       ...,\n",
              "       [-0.3996251 , -0.50086701, -1.026505  , ..., -0.60301834,\n",
              "        -0.07270294, -0.50237538],\n",
              "       [-0.38553473, -0.50086701, -0.18552221, ..., -0.07765033,\n",
              "         0.29145674, -0.50237538],\n",
              "       [ 0.35675688, -0.50086701,  0.99329126, ...,  1.38797685,\n",
              "        -1.99759404, -0.50237538]])"
            ]
          },
          "metadata": {
            "tags": []
          },
          "execution_count": 70
        }
      ]
    },
    {
      "cell_type": "code",
      "metadata": {
        "id": "rzt2Y_njegG3",
        "colab_type": "code",
        "colab": {}
      },
      "source": [
        "housing_labels = strat_train_set[\"medv\"].copy()"
      ],
      "execution_count": 0,
      "outputs": []
    },
    {
      "cell_type": "code",
      "metadata": {
        "id": "6twmlR2Wa_Bl",
        "colab_type": "code",
        "outputId": "7b6acb04-6ef8-40c3-daa6-8e258769bea9",
        "colab": {
          "base_uri": "https://localhost:8080/",
          "height": 54
        }
      },
      "source": [
        "from sklearn.linear_model import LinearRegression\n",
        "\n",
        "lin_reg = LinearRegression()\n",
        "lin_reg.fit(housing_prepared, housing_labels)"
      ],
      "execution_count": 0,
      "outputs": [
        {
          "output_type": "execute_result",
          "data": {
            "text/plain": [
              "LinearRegression(copy_X=True, fit_intercept=True, n_jobs=None, normalize=False)"
            ]
          },
          "metadata": {
            "tags": []
          },
          "execution_count": 72
        }
      ]
    },
    {
      "cell_type": "code",
      "metadata": {
        "id": "KKYKHiRHfeMy",
        "colab_type": "code",
        "outputId": "453c9559-a076-4518-fd9f-b168b157dd47",
        "colab": {
          "base_uri": "https://localhost:8080/",
          "height": 34
        }
      },
      "source": [
        "# let's try the full preprocessing pipeline on a few training instances\n",
        "some_data = housing.iloc[:5]\n",
        "some_labels = housing_labels.iloc[:5]\n",
        "some_data_prepared = full_pipeline.transform(some_data)\n",
        "# Note here that you only use transform() instead of fit_tranform becausue you are not trying to learn any parameter (ie. median)\n",
        "\n",
        "print(\"Predictions:\", lin_reg.predict(some_data_prepared))"
      ],
      "execution_count": 0,
      "outputs": [
        {
          "output_type": "stream",
          "text": [
            "Predictions: [22.  22.8 10.8  9.5 21.4]\n"
          ],
          "name": "stdout"
        }
      ]
    },
    {
      "cell_type": "code",
      "metadata": {
        "id": "fOr9P54etKXR",
        "colab_type": "code",
        "outputId": "d3dfa665-ff67-4a53-afaa-6ed83d447935",
        "colab": {
          "base_uri": "https://localhost:8080/",
          "height": 34
        }
      },
      "source": [
        "print(\"Labels:\", list(some_labels))"
      ],
      "execution_count": 0,
      "outputs": [
        {
          "output_type": "stream",
          "text": [
            "Labels: [22.0, 22.8, 10.8, 9.5, 21.4]\n"
          ],
          "name": "stdout"
        }
      ]
    },
    {
      "cell_type": "code",
      "metadata": {
        "id": "Gc25ALOztTDm",
        "colab_type": "code",
        "outputId": "54688ffc-f198-48ff-cf95-4ba95b066fa5",
        "colab": {
          "base_uri": "https://localhost:8080/",
          "height": 527
        }
      },
      "source": [
        "some_data_prepared"
      ],
      "execution_count": 0,
      "outputs": [
        {
          "output_type": "execute_result",
          "data": {
            "text/plain": [
              "array([[-4.14362785e-01,  1.81628165e+00, -1.28526893e+00,\n",
              "        -2.45697892e-01, -1.40389018e+00,  2.25388348e-01,\n",
              "        -1.27118311e+00,  1.59486085e+00, -9.76106727e-01,\n",
              "        -6.32176961e-01, -1.41061493e+00,  4.17747571e-01,\n",
              "        -6.17271491e-01, -6.02045936e-02, -2.07723797e-01,\n",
              "         1.25588952e-02,  2.38891549e+00],\n",
              "       [-3.58941822e-01, -5.00867013e-01, -1.85522211e-01,\n",
              "        -2.45697892e-01, -9.78721024e-02,  4.82113124e-01,\n",
              "         4.94832289e-01, -2.42752427e-01, -6.28970180e-01,\n",
              "        -6.08278256e-01, -2.81021382e-03,  4.42144970e-01,\n",
              "        -1.13785761e+00,  2.61608065e-02, -2.25243777e-01,\n",
              "        -4.73401737e-02, -5.02375376e-01],\n",
              "       [ 1.05634047e+00, -5.00867013e-01,  9.93291265e-01,\n",
              "        -2.45697892e-01,  1.55360883e+00, -6.19546491e-01,\n",
              "         9.86943298e-01, -8.97647990e-01,  1.68527347e+00,\n",
              "         1.55455460e+00,  8.14624782e-01, -1.30797675e+00,\n",
              "         1.57793720e+00, -1.26932019e+00,  1.67914320e+00,\n",
              "         4.98164553e-01, -5.02375376e-01],\n",
              "       [ 6.58129778e-01, -5.00867013e-01,  9.93291265e-01,\n",
              "        -2.45697892e-01,  1.03962752e+00,  1.22416323e-01,\n",
              "         9.52041808e-01, -8.64210042e-01,  1.68527347e+00,\n",
              "         1.55455460e+00,  8.14624782e-01, -3.32020263e+00,\n",
              "         1.61885047e+00, -1.40966397e+00,  2.66189280e+00,\n",
              "        -1.28322345e+00, -5.02375376e-01],\n",
              "       [-3.96189602e-01, -5.00867013e-01,  2.07866221e+00,\n",
              "        -2.45697892e-01,  2.13887053e-01, -4.33350500e-01,\n",
              "         7.00751080e-01, -8.52833770e-01, -8.60394545e-01,\n",
              "        -1.30134072e+00,  3.15081174e-01,  3.09190334e-01,\n",
              "         3.11036554e-01, -1.24978644e-01, -3.10887130e-01,\n",
              "         1.81424911e-02, -5.02375376e-01]])"
            ]
          },
          "metadata": {
            "tags": []
          },
          "execution_count": 75
        }
      ]
    },
    {
      "cell_type": "code",
      "metadata": {
        "id": "CmT4zy6otV0A",
        "colab_type": "code",
        "outputId": "66645edd-9915-4932-82b8-e349f677a0c6",
        "colab": {
          "base_uri": "https://localhost:8080/",
          "height": 34
        }
      },
      "source": [
        "from sklearn.metrics import mean_squared_error\n",
        "\n",
        "housing_predictions = lin_reg.predict(housing_prepared)\n",
        "lin_mse = mean_squared_error(housing_labels, housing_predictions)\n",
        "lin_rmse = np.sqrt(lin_mse)\n",
        "lin_rmse"
      ],
      "execution_count": 0,
      "outputs": [
        {
          "output_type": "execute_result",
          "data": {
            "text/plain": [
              "6.390032425468688e-14"
            ]
          },
          "metadata": {
            "tags": []
          },
          "execution_count": 76
        }
      ]
    },
    {
      "cell_type": "code",
      "metadata": {
        "id": "Pzf5xQmTtZ3J",
        "colab_type": "code",
        "outputId": "9eb4fd8c-e82d-487e-8078-e738cc7bced6",
        "colab": {
          "base_uri": "https://localhost:8080/",
          "height": 34
        }
      },
      "source": [
        "from sklearn.metrics import mean_absolute_error\n",
        "\n",
        "lin_mae = mean_absolute_error(housing_labels, housing_predictions)\n",
        "lin_mae"
      ],
      "execution_count": 0,
      "outputs": [
        {
          "output_type": "execute_result",
          "data": {
            "text/plain": [
              "5.14110206551669e-14"
            ]
          },
          "metadata": {
            "tags": []
          },
          "execution_count": 77
        }
      ]
    },
    {
      "cell_type": "code",
      "metadata": {
        "id": "-1EIgUoqtdiS",
        "colab_type": "code",
        "outputId": "9ec3964a-d0b8-483f-d856-266eead2c0e6",
        "colab": {
          "base_uri": "https://localhost:8080/",
          "height": 122
        }
      },
      "source": [
        "from sklearn.tree import DecisionTreeRegressor\n",
        "\n",
        "tree_reg = DecisionTreeRegressor(random_state=42)\n",
        "tree_reg.fit(housing_prepared, housing_labels)"
      ],
      "execution_count": 0,
      "outputs": [
        {
          "output_type": "execute_result",
          "data": {
            "text/plain": [
              "DecisionTreeRegressor(criterion='mse', max_depth=None, max_features=None,\n",
              "                      max_leaf_nodes=None, min_impurity_decrease=0.0,\n",
              "                      min_impurity_split=None, min_samples_leaf=1,\n",
              "                      min_samples_split=2, min_weight_fraction_leaf=0.0,\n",
              "                      presort=False, random_state=42, splitter='best')"
            ]
          },
          "metadata": {
            "tags": []
          },
          "execution_count": 78
        }
      ]
    },
    {
      "cell_type": "code",
      "metadata": {
        "id": "DPW4IMbBtgSB",
        "colab_type": "code",
        "outputId": "28c04f69-b41c-4403-d7e5-ed418420199a",
        "colab": {
          "base_uri": "https://localhost:8080/",
          "height": 34
        }
      },
      "source": [
        "housing_predictions = tree_reg.predict(housing_prepared)\n",
        "tree_mse = mean_squared_error(housing_labels, housing_predictions)\n",
        "tree_rmse = np.sqrt(tree_mse)\n",
        "tree_rmse"
      ],
      "execution_count": 0,
      "outputs": [
        {
          "output_type": "execute_result",
          "data": {
            "text/plain": [
              "7.341149615926354e-16"
            ]
          },
          "metadata": {
            "tags": []
          },
          "execution_count": 79
        }
      ]
    },
    {
      "cell_type": "code",
      "metadata": {
        "id": "Re3YZaDgthzt",
        "colab_type": "code",
        "colab": {}
      },
      "source": [
        "from sklearn.model_selection import cross_val_score\n",
        "\n",
        "scores = cross_val_score(tree_reg, housing_prepared, housing_labels,\n",
        "                         scoring=\"neg_mean_squared_error\", cv=10)\n",
        "tree_rmse_scores = np.sqrt(-scores)"
      ],
      "execution_count": 0,
      "outputs": []
    },
    {
      "cell_type": "code",
      "metadata": {
        "id": "sQnkaT9ztlP6",
        "colab_type": "code",
        "outputId": "2c3e973c-90c2-4ac7-c80a-9c6b5a143c08",
        "colab": {
          "base_uri": "https://localhost:8080/",
          "height": 105
        }
      },
      "source": [
        "def display_scores(scores):\n",
        "    print(\"Scores:\", scores)\n",
        "    print(\"Mean:\", scores.mean())\n",
        "    print(\"Standard deviation:\", scores.std())\n",
        "\n",
        "display_scores(tree_rmse_scores)"
      ],
      "execution_count": 0,
      "outputs": [
        {
          "output_type": "stream",
          "text": [
            "Scores: [0.64316292 0.32684747 0.15617376 0.18740851 0.15165751 0.22304708\n",
            " 0.80731035 0.47434165 0.89218832 0.1183216 ]\n",
            "Mean: 0.39804591656422594\n",
            "Standard deviation: 0.27478982569692245\n"
          ],
          "name": "stdout"
        }
      ]
    },
    {
      "cell_type": "code",
      "metadata": {
        "id": "5rc-OTV3toAG",
        "colab_type": "code",
        "outputId": "3499e02d-c2b6-4063-debe-e145769f5b85",
        "colab": {
          "base_uri": "https://localhost:8080/",
          "height": 102
        }
      },
      "source": [
        "lin_scores = cross_val_score(lin_reg, housing_prepared, housing_labels,\n",
        "                             scoring=\"neg_mean_squared_error\", cv=10)\n",
        "lin_rmse_scores = np.sqrt(-lin_scores)\n",
        "display_scores(lin_rmse_scores)"
      ],
      "execution_count": 0,
      "outputs": [
        {
          "output_type": "stream",
          "text": [
            "Scores: [3.49395459e-14 4.26336924e-14 3.20741575e-14 2.85095791e-14\n",
            " 3.89848614e-14 6.90023751e-14 2.14918073e-14 7.21238339e-14\n",
            " 7.62531046e-14 2.16431422e-14]\n",
            "Mean: 4.3765609951539764e-14\n",
            "Standard deviation: 1.9883458166169762e-14\n"
          ],
          "name": "stdout"
        }
      ]
    },
    {
      "cell_type": "code",
      "metadata": {
        "id": "tFfEb-QctoDg",
        "colab_type": "code",
        "outputId": "f3fcf1a0-60ec-4b22-ba83-9a8d4b1c615a",
        "colab": {
          "base_uri": "https://localhost:8080/",
          "height": 156
        }
      },
      "source": [
        "from sklearn.ensemble import RandomForestRegressor\n",
        "\n",
        "forest_reg = RandomForestRegressor(n_estimators=100, random_state=42)\n",
        "forest_reg.fit(housing_prepared, housing_labels)"
      ],
      "execution_count": 0,
      "outputs": [
        {
          "output_type": "execute_result",
          "data": {
            "text/plain": [
              "RandomForestRegressor(bootstrap=True, criterion='mse', max_depth=None,\n",
              "                      max_features='auto', max_leaf_nodes=None,\n",
              "                      min_impurity_decrease=0.0, min_impurity_split=None,\n",
              "                      min_samples_leaf=1, min_samples_split=2,\n",
              "                      min_weight_fraction_leaf=0.0, n_estimators=100,\n",
              "                      n_jobs=None, oob_score=False, random_state=42, verbose=0,\n",
              "                      warm_start=False)"
            ]
          },
          "metadata": {
            "tags": []
          },
          "execution_count": 83
        }
      ]
    },
    {
      "cell_type": "code",
      "metadata": {
        "id": "CG34_tSdtuEr",
        "colab_type": "code",
        "outputId": "0082c108-78ff-4146-941b-e25c7d96759f",
        "colab": {
          "base_uri": "https://localhost:8080/",
          "height": 34
        }
      },
      "source": [
        "housing_predictions = forest_reg.predict(housing_prepared)\n",
        "forest_mse = mean_squared_error(housing_labels, housing_predictions)\n",
        "forest_rmse = np.sqrt(forest_mse)\n",
        "forest_rmse"
      ],
      "execution_count": 0,
      "outputs": [
        {
          "output_type": "execute_result",
          "data": {
            "text/plain": [
              "0.0985501078760246"
            ]
          },
          "metadata": {
            "tags": []
          },
          "execution_count": 84
        }
      ]
    },
    {
      "cell_type": "code",
      "metadata": {
        "id": "iiPxHGaytxkF",
        "colab_type": "code",
        "outputId": "a4009521-a0ea-4fc5-a4ae-1e68e9115507",
        "colab": {
          "base_uri": "https://localhost:8080/",
          "height": 125
        }
      },
      "source": [
        "from sklearn.model_selection import cross_val_score\n",
        "\n",
        "forest_scores = cross_val_score(forest_reg, housing_prepared, housing_labels,\n",
        "                                scoring=\"neg_mean_squared_error\", cv=10)\n",
        "forest_rmse_scores = np.sqrt(-forest_scores)\n",
        "display_scores(forest_rmse_scores)"
      ],
      "execution_count": 0,
      "outputs": [
        {
          "output_type": "stream",
          "text": [
            "Scores: [0.27647154 0.20761098 0.10632245 0.29636361 0.12523747 0.14562117\n",
            " 0.14851902 0.28008847 0.54170093 0.06717998]\n",
            "Mean: 0.21951156254296844\n",
            "Standard deviation: 0.13121427972072158\n"
          ],
          "name": "stdout"
        }
      ]
    },
    {
      "cell_type": "code",
      "metadata": {
        "id": "NYPslWTxtxnk",
        "colab_type": "code",
        "outputId": "4ba0a68b-101a-4d4a-d221-479ceda25036",
        "colab": {
          "base_uri": "https://localhost:8080/",
          "height": 170
        }
      },
      "source": [
        "scores = cross_val_score(lin_reg, housing_prepared, housing_labels, scoring=\"neg_mean_squared_error\", cv=10)\n",
        "pd.Series(np.sqrt(-scores)).describe()"
      ],
      "execution_count": 0,
      "outputs": [
        {
          "output_type": "execute_result",
          "data": {
            "text/plain": [
              "count    1.000000e+01\n",
              "mean     4.376561e-14\n",
              "std      2.095901e-14\n",
              "min      2.149181e-14\n",
              "25%      2.940072e-14\n",
              "50%      3.696220e-14\n",
              "75%      6.241020e-14\n",
              "max      7.625310e-14\n",
              "dtype: float64"
            ]
          },
          "metadata": {
            "tags": []
          },
          "execution_count": 86
        }
      ]
    },
    {
      "cell_type": "code",
      "metadata": {
        "id": "Friensm_t4Cx",
        "colab_type": "code",
        "outputId": "f07d32f5-a361-49be-9994-01f386ce4e5e",
        "colab": {
          "base_uri": "https://localhost:8080/",
          "height": 411
        }
      },
      "source": [
        "from sklearn.model_selection import GridSearchCV\n",
        "\n",
        "param_grid = [\n",
        "    # try 12 (3×4) combinations of hyperparameters\n",
        "    {'n_estimators': [3, 10, 30], 'max_features': [2, 4, 6, 8]},\n",
        "    # then try 6 (2×3) combinations with bootstrap set as False\n",
        "    {'bootstrap': [False], 'n_estimators': [3, 10], 'max_features': [2, 3, 4]},\n",
        "  ]\n",
        "\n",
        "forest_reg = RandomForestRegressor(random_state=42)\n",
        "# train across 5 folds, that's a total of ? rounds of training \n",
        "grid_search = GridSearchCV(forest_reg, param_grid, cv=5,\n",
        "                           scoring='neg_mean_squared_error',\n",
        "                           return_train_score=True)\n",
        "grid_search.fit(housing_prepared, housing_labels)"
      ],
      "execution_count": 0,
      "outputs": [
        {
          "output_type": "stream",
          "text": [
            "/usr/local/lib/python3.6/dist-packages/sklearn/model_selection/_search.py:814: DeprecationWarning: The default of the `iid` parameter will change from True to False in version 0.22 and will be removed in 0.24. This will change numeric results when test-set sizes are unequal.\n",
            "  DeprecationWarning)\n"
          ],
          "name": "stderr"
        },
        {
          "output_type": "execute_result",
          "data": {
            "text/plain": [
              "GridSearchCV(cv=5, error_score='raise-deprecating',\n",
              "             estimator=RandomForestRegressor(bootstrap=True, criterion='mse',\n",
              "                                             max_depth=None,\n",
              "                                             max_features='auto',\n",
              "                                             max_leaf_nodes=None,\n",
              "                                             min_impurity_decrease=0.0,\n",
              "                                             min_impurity_split=None,\n",
              "                                             min_samples_leaf=1,\n",
              "                                             min_samples_split=2,\n",
              "                                             min_weight_fraction_leaf=0.0,\n",
              "                                             n_estimators='warn', n_jobs=None,\n",
              "                                             oob_score=False, random_state=42,\n",
              "                                             verbose=0, warm_start=False),\n",
              "             iid='warn', n_jobs=None,\n",
              "             param_grid=[{'max_features': [2, 4, 6, 8],\n",
              "                          'n_estimators': [3, 10, 30]},\n",
              "                         {'bootstrap': [False], 'max_features': [2, 3, 4],\n",
              "                          'n_estimators': [3, 10]}],\n",
              "             pre_dispatch='2*n_jobs', refit=True, return_train_score=True,\n",
              "             scoring='neg_mean_squared_error', verbose=0)"
            ]
          },
          "metadata": {
            "tags": []
          },
          "execution_count": 87
        }
      ]
    },
    {
      "cell_type": "code",
      "metadata": {
        "id": "jH3QT7m7t8ey",
        "colab_type": "code",
        "outputId": "8bc20ee2-61a9-4b42-969b-1a70337d5c0e",
        "colab": {
          "base_uri": "https://localhost:8080/",
          "height": 34
        }
      },
      "source": [
        "grid_search.best_params_"
      ],
      "execution_count": 0,
      "outputs": [
        {
          "output_type": "execute_result",
          "data": {
            "text/plain": [
              "{'max_features': 8, 'n_estimators': 30}"
            ]
          },
          "metadata": {
            "tags": []
          },
          "execution_count": 88
        }
      ]
    },
    {
      "cell_type": "code",
      "metadata": {
        "id": "97MKuGd-t_5E",
        "colab_type": "code",
        "outputId": "59ea0e75-ce7b-463a-a317-58450dff45f6",
        "colab": {
          "base_uri": "https://localhost:8080/",
          "height": 156
        }
      },
      "source": [
        "grid_search.best_estimator_"
      ],
      "execution_count": 0,
      "outputs": [
        {
          "output_type": "execute_result",
          "data": {
            "text/plain": [
              "RandomForestRegressor(bootstrap=True, criterion='mse', max_depth=None,\n",
              "                      max_features=8, max_leaf_nodes=None,\n",
              "                      min_impurity_decrease=0.0, min_impurity_split=None,\n",
              "                      min_samples_leaf=1, min_samples_split=2,\n",
              "                      min_weight_fraction_leaf=0.0, n_estimators=30,\n",
              "                      n_jobs=None, oob_score=False, random_state=42, verbose=0,\n",
              "                      warm_start=False)"
            ]
          },
          "metadata": {
            "tags": []
          },
          "execution_count": 89
        }
      ]
    },
    {
      "cell_type": "code",
      "metadata": {
        "id": "zjQCL_J8uCWR",
        "colab_type": "code",
        "outputId": "c5a70bf9-d0b8-4bec-f545-3cabd8f12b26",
        "colab": {
          "base_uri": "https://localhost:8080/",
          "height": 343
        }
      },
      "source": [
        "cvres = grid_search.cv_results_\n",
        "for mean_score, params in zip(cvres[\"mean_test_score\"], cvres[\"params\"]):\n",
        "    print(np.sqrt(-mean_score), params)"
      ],
      "execution_count": 0,
      "outputs": [
        {
          "output_type": "stream",
          "text": [
            "2.426458483073017 {'max_features': 2, 'n_estimators': 3}\n",
            "2.0678515447200505 {'max_features': 2, 'n_estimators': 10}\n",
            "1.7663866128499432 {'max_features': 2, 'n_estimators': 30}\n",
            "1.9676041005724856 {'max_features': 4, 'n_estimators': 3}\n",
            "1.504406234636071 {'max_features': 4, 'n_estimators': 10}\n",
            "1.1297712659256876 {'max_features': 4, 'n_estimators': 30}\n",
            "2.0003107569356398 {'max_features': 6, 'n_estimators': 3}\n",
            "1.2208112868170093 {'max_features': 6, 'n_estimators': 10}\n",
            "0.8939191499485083 {'max_features': 6, 'n_estimators': 30}\n",
            "1.3597860684001661 {'max_features': 8, 'n_estimators': 3}\n",
            "0.9000375404711884 {'max_features': 8, 'n_estimators': 10}\n",
            "0.6362238191664998 {'max_features': 8, 'n_estimators': 30}\n",
            "2.5924469286964795 {'bootstrap': False, 'max_features': 2, 'n_estimators': 3}\n",
            "1.7799351973964368 {'bootstrap': False, 'max_features': 2, 'n_estimators': 10}\n",
            "1.7290518968631925 {'bootstrap': False, 'max_features': 3, 'n_estimators': 3}\n",
            "1.3945622827238802 {'bootstrap': False, 'max_features': 3, 'n_estimators': 10}\n",
            "1.7546731569693481 {'bootstrap': False, 'max_features': 4, 'n_estimators': 3}\n",
            "1.1314529999470189 {'bootstrap': False, 'max_features': 4, 'n_estimators': 10}\n"
          ],
          "name": "stdout"
        }
      ]
    },
    {
      "cell_type": "code",
      "metadata": {
        "id": "WWURDDYyuE48",
        "colab_type": "code",
        "outputId": "7f833158-617a-4801-cf8a-3c686890ecea",
        "colab": {
          "base_uri": "https://localhost:8080/",
          "height": 1000
        }
      },
      "source": [
        "pd.DataFrame(grid_search.cv_results_)"
      ],
      "execution_count": 0,
      "outputs": [
        {
          "output_type": "execute_result",
          "data": {
            "text/html": [
              "<div>\n",
              "<style scoped>\n",
              "    .dataframe tbody tr th:only-of-type {\n",
              "        vertical-align: middle;\n",
              "    }\n",
              "\n",
              "    .dataframe tbody tr th {\n",
              "        vertical-align: top;\n",
              "    }\n",
              "\n",
              "    .dataframe thead th {\n",
              "        text-align: right;\n",
              "    }\n",
              "</style>\n",
              "<table border=\"1\" class=\"dataframe\">\n",
              "  <thead>\n",
              "    <tr style=\"text-align: right;\">\n",
              "      <th></th>\n",
              "      <th>mean_fit_time</th>\n",
              "      <th>std_fit_time</th>\n",
              "      <th>mean_score_time</th>\n",
              "      <th>std_score_time</th>\n",
              "      <th>param_max_features</th>\n",
              "      <th>param_n_estimators</th>\n",
              "      <th>param_bootstrap</th>\n",
              "      <th>params</th>\n",
              "      <th>split0_test_score</th>\n",
              "      <th>split1_test_score</th>\n",
              "      <th>split2_test_score</th>\n",
              "      <th>split3_test_score</th>\n",
              "      <th>split4_test_score</th>\n",
              "      <th>mean_test_score</th>\n",
              "      <th>std_test_score</th>\n",
              "      <th>rank_test_score</th>\n",
              "      <th>split0_train_score</th>\n",
              "      <th>split1_train_score</th>\n",
              "      <th>split2_train_score</th>\n",
              "      <th>split3_train_score</th>\n",
              "      <th>split4_train_score</th>\n",
              "      <th>mean_train_score</th>\n",
              "      <th>std_train_score</th>\n",
              "    </tr>\n",
              "  </thead>\n",
              "  <tbody>\n",
              "    <tr>\n",
              "      <th>0</th>\n",
              "      <td>0.003984</td>\n",
              "      <td>0.001030</td>\n",
              "      <td>0.000903</td>\n",
              "      <td>0.000046</td>\n",
              "      <td>2</td>\n",
              "      <td>3</td>\n",
              "      <td>NaN</td>\n",
              "      <td>{'max_features': 2, 'n_estimators': 3}</td>\n",
              "      <td>-4.555336</td>\n",
              "      <td>-2.404321</td>\n",
              "      <td>-7.026461</td>\n",
              "      <td>-6.737764</td>\n",
              "      <td>-8.749958</td>\n",
              "      <td>-5.887701</td>\n",
              "      <td>2.194509</td>\n",
              "      <td>17</td>\n",
              "      <td>-1.681300e+00</td>\n",
              "      <td>-2.274857e+00</td>\n",
              "      <td>-2.501235e+00</td>\n",
              "      <td>-3.155026e+00</td>\n",
              "      <td>-1.476958e+00</td>\n",
              "      <td>-2.217875e+00</td>\n",
              "      <td>5.997769e-01</td>\n",
              "    </tr>\n",
              "    <tr>\n",
              "      <th>1</th>\n",
              "      <td>0.009852</td>\n",
              "      <td>0.000526</td>\n",
              "      <td>0.001328</td>\n",
              "      <td>0.000077</td>\n",
              "      <td>2</td>\n",
              "      <td>10</td>\n",
              "      <td>NaN</td>\n",
              "      <td>{'max_features': 2, 'n_estimators': 10}</td>\n",
              "      <td>-2.357168</td>\n",
              "      <td>-1.535938</td>\n",
              "      <td>-8.356935</td>\n",
              "      <td>-4.283726</td>\n",
              "      <td>-4.853412</td>\n",
              "      <td>-4.276010</td>\n",
              "      <td>2.376677</td>\n",
              "      <td>16</td>\n",
              "      <td>-1.135661e+00</td>\n",
              "      <td>-1.087051e+00</td>\n",
              "      <td>-1.334183e+00</td>\n",
              "      <td>-1.022453e+00</td>\n",
              "      <td>-1.257599e+00</td>\n",
              "      <td>-1.167389e+00</td>\n",
              "      <td>1.135127e-01</td>\n",
              "    </tr>\n",
              "    <tr>\n",
              "      <th>2</th>\n",
              "      <td>0.026742</td>\n",
              "      <td>0.000636</td>\n",
              "      <td>0.002492</td>\n",
              "      <td>0.000204</td>\n",
              "      <td>2</td>\n",
              "      <td>30</td>\n",
              "      <td>NaN</td>\n",
              "      <td>{'max_features': 2, 'n_estimators': 30}</td>\n",
              "      <td>-2.921092</td>\n",
              "      <td>-1.159688</td>\n",
              "      <td>-4.829411</td>\n",
              "      <td>-3.082302</td>\n",
              "      <td>-3.614215</td>\n",
              "      <td>-3.120122</td>\n",
              "      <td>1.188661</td>\n",
              "      <td>12</td>\n",
              "      <td>-5.168238e-01</td>\n",
              "      <td>-6.382399e-01</td>\n",
              "      <td>-5.313892e-01</td>\n",
              "      <td>-3.988261e-01</td>\n",
              "      <td>-7.756157e-01</td>\n",
              "      <td>-5.721789e-01</td>\n",
              "      <td>1.269092e-01</td>\n",
              "    </tr>\n",
              "    <tr>\n",
              "      <th>3</th>\n",
              "      <td>0.003853</td>\n",
              "      <td>0.000023</td>\n",
              "      <td>0.000837</td>\n",
              "      <td>0.000010</td>\n",
              "      <td>4</td>\n",
              "      <td>3</td>\n",
              "      <td>NaN</td>\n",
              "      <td>{'max_features': 4, 'n_estimators': 3}</td>\n",
              "      <td>-5.372675</td>\n",
              "      <td>-3.547682</td>\n",
              "      <td>-2.215734</td>\n",
              "      <td>-2.411481</td>\n",
              "      <td>-5.833986</td>\n",
              "      <td>-3.871466</td>\n",
              "      <td>1.487462</td>\n",
              "      <td>14</td>\n",
              "      <td>-1.125717e+00</td>\n",
              "      <td>-1.517798e+00</td>\n",
              "      <td>-1.323013e+00</td>\n",
              "      <td>-2.142900e+00</td>\n",
              "      <td>-7.926955e-01</td>\n",
              "      <td>-1.380425e+00</td>\n",
              "      <td>4.502971e-01</td>\n",
              "    </tr>\n",
              "    <tr>\n",
              "      <th>4</th>\n",
              "      <td>0.011097</td>\n",
              "      <td>0.000189</td>\n",
              "      <td>0.001223</td>\n",
              "      <td>0.000010</td>\n",
              "      <td>4</td>\n",
              "      <td>10</td>\n",
              "      <td>NaN</td>\n",
              "      <td>{'max_features': 4, 'n_estimators': 10}</td>\n",
              "      <td>-1.584777</td>\n",
              "      <td>-1.042895</td>\n",
              "      <td>-3.404699</td>\n",
              "      <td>-1.841042</td>\n",
              "      <td>-3.457522</td>\n",
              "      <td>-2.263238</td>\n",
              "      <td>0.985029</td>\n",
              "      <td>9</td>\n",
              "      <td>-3.876053e-01</td>\n",
              "      <td>-5.716192e-01</td>\n",
              "      <td>-1.036223e+00</td>\n",
              "      <td>-7.360833e-01</td>\n",
              "      <td>-6.223015e-01</td>\n",
              "      <td>-6.707664e-01</td>\n",
              "      <td>2.145619e-01</td>\n",
              "    </tr>\n",
              "    <tr>\n",
              "      <th>5</th>\n",
              "      <td>0.031450</td>\n",
              "      <td>0.000160</td>\n",
              "      <td>0.002388</td>\n",
              "      <td>0.000039</td>\n",
              "      <td>4</td>\n",
              "      <td>30</td>\n",
              "      <td>NaN</td>\n",
              "      <td>{'max_features': 4, 'n_estimators': 30}</td>\n",
              "      <td>-0.913867</td>\n",
              "      <td>-0.698383</td>\n",
              "      <td>-1.508832</td>\n",
              "      <td>-0.937790</td>\n",
              "      <td>-2.336126</td>\n",
              "      <td>-1.276383</td>\n",
              "      <td>0.591217</td>\n",
              "      <td>4</td>\n",
              "      <td>-2.180571e-01</td>\n",
              "      <td>-2.768144e-01</td>\n",
              "      <td>-2.955760e-01</td>\n",
              "      <td>-2.904027e-01</td>\n",
              "      <td>-3.872917e-01</td>\n",
              "      <td>-2.936284e-01</td>\n",
              "      <td>5.437048e-02</td>\n",
              "    </tr>\n",
              "    <tr>\n",
              "      <th>6</th>\n",
              "      <td>0.004385</td>\n",
              "      <td>0.000112</td>\n",
              "      <td>0.000870</td>\n",
              "      <td>0.000025</td>\n",
              "      <td>6</td>\n",
              "      <td>3</td>\n",
              "      <td>NaN</td>\n",
              "      <td>{'max_features': 6, 'n_estimators': 3}</td>\n",
              "      <td>-1.857668</td>\n",
              "      <td>-2.594636</td>\n",
              "      <td>-9.250316</td>\n",
              "      <td>-2.209547</td>\n",
              "      <td>-4.095208</td>\n",
              "      <td>-4.001243</td>\n",
              "      <td>2.736331</td>\n",
              "      <td>15</td>\n",
              "      <td>-3.682525e-01</td>\n",
              "      <td>-4.776333e-01</td>\n",
              "      <td>-1.828166e+00</td>\n",
              "      <td>-1.270839e+00</td>\n",
              "      <td>-9.691701e-01</td>\n",
              "      <td>-9.828123e-01</td>\n",
              "      <td>5.349129e-01</td>\n",
              "    </tr>\n",
              "    <tr>\n",
              "      <th>7</th>\n",
              "      <td>0.012452</td>\n",
              "      <td>0.000096</td>\n",
              "      <td>0.001240</td>\n",
              "      <td>0.000014</td>\n",
              "      <td>6</td>\n",
              "      <td>10</td>\n",
              "      <td>NaN</td>\n",
              "      <td>{'max_features': 6, 'n_estimators': 10}</td>\n",
              "      <td>-1.032868</td>\n",
              "      <td>-1.761454</td>\n",
              "      <td>-2.778316</td>\n",
              "      <td>-0.896670</td>\n",
              "      <td>-0.976245</td>\n",
              "      <td>-1.490380</td>\n",
              "      <td>0.715746</td>\n",
              "      <td>6</td>\n",
              "      <td>-3.552474e-01</td>\n",
              "      <td>-3.833690e-01</td>\n",
              "      <td>-4.900238e-01</td>\n",
              "      <td>-2.899015e-01</td>\n",
              "      <td>-2.388090e-01</td>\n",
              "      <td>-3.514701e-01</td>\n",
              "      <td>8.568800e-02</td>\n",
              "    </tr>\n",
              "    <tr>\n",
              "      <th>8</th>\n",
              "      <td>0.035835</td>\n",
              "      <td>0.000287</td>\n",
              "      <td>0.002355</td>\n",
              "      <td>0.000048</td>\n",
              "      <td>6</td>\n",
              "      <td>30</td>\n",
              "      <td>NaN</td>\n",
              "      <td>{'max_features': 6, 'n_estimators': 30}</td>\n",
              "      <td>-0.414292</td>\n",
              "      <td>-0.737065</td>\n",
              "      <td>-1.099340</td>\n",
              "      <td>-0.564451</td>\n",
              "      <td>-1.185074</td>\n",
              "      <td>-0.799091</td>\n",
              "      <td>0.298451</td>\n",
              "      <td>2</td>\n",
              "      <td>-1.114857e-01</td>\n",
              "      <td>-1.458436e-01</td>\n",
              "      <td>-1.236171e-01</td>\n",
              "      <td>-1.095344e-01</td>\n",
              "      <td>-2.039902e-01</td>\n",
              "      <td>-1.388942e-01</td>\n",
              "      <td>3.502111e-02</td>\n",
              "    </tr>\n",
              "    <tr>\n",
              "      <th>9</th>\n",
              "      <td>0.004802</td>\n",
              "      <td>0.000043</td>\n",
              "      <td>0.000847</td>\n",
              "      <td>0.000016</td>\n",
              "      <td>8</td>\n",
              "      <td>3</td>\n",
              "      <td>NaN</td>\n",
              "      <td>{'max_features': 8, 'n_estimators': 3}</td>\n",
              "      <td>-1.950878</td>\n",
              "      <td>-2.099259</td>\n",
              "      <td>-1.832689</td>\n",
              "      <td>-1.853512</td>\n",
              "      <td>-1.504500</td>\n",
              "      <td>-1.849018</td>\n",
              "      <td>0.195439</td>\n",
              "      <td>7</td>\n",
              "      <td>-5.631785e-01</td>\n",
              "      <td>-3.009838e-01</td>\n",
              "      <td>-8.847506e-01</td>\n",
              "      <td>-1.146956e+00</td>\n",
              "      <td>-4.566907e-01</td>\n",
              "      <td>-6.705119e-01</td>\n",
              "      <td>3.055120e-01</td>\n",
              "    </tr>\n",
              "    <tr>\n",
              "      <th>10</th>\n",
              "      <td>0.013966</td>\n",
              "      <td>0.000112</td>\n",
              "      <td>0.001236</td>\n",
              "      <td>0.000010</td>\n",
              "      <td>8</td>\n",
              "      <td>10</td>\n",
              "      <td>NaN</td>\n",
              "      <td>{'max_features': 8, 'n_estimators': 10}</td>\n",
              "      <td>-0.460349</td>\n",
              "      <td>-0.735389</td>\n",
              "      <td>-1.538426</td>\n",
              "      <td>-0.875195</td>\n",
              "      <td>-0.436365</td>\n",
              "      <td>-0.810068</td>\n",
              "      <td>0.400634</td>\n",
              "      <td>3</td>\n",
              "      <td>-2.084653e-01</td>\n",
              "      <td>-1.114437e-01</td>\n",
              "      <td>-3.177368e-01</td>\n",
              "      <td>-2.636251e-01</td>\n",
              "      <td>-1.488636e-01</td>\n",
              "      <td>-2.100269e-01</td>\n",
              "      <td>7.474790e-02</td>\n",
              "    </tr>\n",
              "    <tr>\n",
              "      <th>11</th>\n",
              "      <td>0.042381</td>\n",
              "      <td>0.003115</td>\n",
              "      <td>0.002763</td>\n",
              "      <td>0.000681</td>\n",
              "      <td>8</td>\n",
              "      <td>30</td>\n",
              "      <td>NaN</td>\n",
              "      <td>{'max_features': 8, 'n_estimators': 30}</td>\n",
              "      <td>-0.326562</td>\n",
              "      <td>-0.212251</td>\n",
              "      <td>-0.426809</td>\n",
              "      <td>-0.449375</td>\n",
              "      <td>-0.611458</td>\n",
              "      <td>-0.404781</td>\n",
              "      <td>0.132714</td>\n",
              "      <td>1</td>\n",
              "      <td>-7.978122e-02</td>\n",
              "      <td>-6.162779e-02</td>\n",
              "      <td>-1.049268e-01</td>\n",
              "      <td>-1.144338e-01</td>\n",
              "      <td>-1.172909e-01</td>\n",
              "      <td>-9.561211e-02</td>\n",
              "      <td>2.152460e-02</td>\n",
              "    </tr>\n",
              "    <tr>\n",
              "      <th>12</th>\n",
              "      <td>0.004935</td>\n",
              "      <td>0.001136</td>\n",
              "      <td>0.000979</td>\n",
              "      <td>0.000153</td>\n",
              "      <td>2</td>\n",
              "      <td>3</td>\n",
              "      <td>False</td>\n",
              "      <td>{'bootstrap': False, 'max_features': 2, 'n_est...</td>\n",
              "      <td>-3.442798</td>\n",
              "      <td>-2.932675</td>\n",
              "      <td>-9.294431</td>\n",
              "      <td>-13.544911</td>\n",
              "      <td>-4.359944</td>\n",
              "      <td>-6.720781</td>\n",
              "      <td>4.098768</td>\n",
              "      <td>18</td>\n",
              "      <td>-2.496024e-30</td>\n",
              "      <td>-6.191950e-05</td>\n",
              "      <td>-3.018675e-30</td>\n",
              "      <td>-2.564409e-30</td>\n",
              "      <td>-2.614928e-30</td>\n",
              "      <td>-1.238390e-05</td>\n",
              "      <td>2.476780e-05</td>\n",
              "    </tr>\n",
              "    <tr>\n",
              "      <th>13</th>\n",
              "      <td>0.011052</td>\n",
              "      <td>0.000136</td>\n",
              "      <td>0.001329</td>\n",
              "      <td>0.000102</td>\n",
              "      <td>2</td>\n",
              "      <td>10</td>\n",
              "      <td>False</td>\n",
              "      <td>{'bootstrap': False, 'max_features': 2, 'n_est...</td>\n",
              "      <td>-2.818770</td>\n",
              "      <td>-2.219738</td>\n",
              "      <td>-2.695872</td>\n",
              "      <td>-5.540340</td>\n",
              "      <td>-2.558601</td>\n",
              "      <td>-3.168169</td>\n",
              "      <td>1.204721</td>\n",
              "      <td>13</td>\n",
              "      <td>-9.678810e-30</td>\n",
              "      <td>-1.436533e-04</td>\n",
              "      <td>-2.476780e-06</td>\n",
              "      <td>-9.705676e-30</td>\n",
              "      <td>-9.310506e-30</td>\n",
              "      <td>-2.922601e-05</td>\n",
              "      <td>5.722166e-05</td>\n",
              "    </tr>\n",
              "    <tr>\n",
              "      <th>14</th>\n",
              "      <td>0.004566</td>\n",
              "      <td>0.000178</td>\n",
              "      <td>0.000880</td>\n",
              "      <td>0.000047</td>\n",
              "      <td>3</td>\n",
              "      <td>3</td>\n",
              "      <td>False</td>\n",
              "      <td>{'bootstrap': False, 'max_features': 3, 'n_est...</td>\n",
              "      <td>-2.539012</td>\n",
              "      <td>-2.473361</td>\n",
              "      <td>-3.343580</td>\n",
              "      <td>-5.039163</td>\n",
              "      <td>-1.535028</td>\n",
              "      <td>-2.989620</td>\n",
              "      <td>1.174925</td>\n",
              "      <td>10</td>\n",
              "      <td>-2.496024e-30</td>\n",
              "      <td>-2.720715e-30</td>\n",
              "      <td>-3.018675e-30</td>\n",
              "      <td>-2.564409e-30</td>\n",
              "      <td>-2.614928e-30</td>\n",
              "      <td>-2.682950e-30</td>\n",
              "      <td>1.831709e-31</td>\n",
              "    </tr>\n",
              "    <tr>\n",
              "      <th>15</th>\n",
              "      <td>0.012718</td>\n",
              "      <td>0.000288</td>\n",
              "      <td>0.001306</td>\n",
              "      <td>0.000019</td>\n",
              "      <td>3</td>\n",
              "      <td>10</td>\n",
              "      <td>False</td>\n",
              "      <td>{'bootstrap': False, 'max_features': 3, 'n_est...</td>\n",
              "      <td>-1.330415</td>\n",
              "      <td>-1.166437</td>\n",
              "      <td>-2.084123</td>\n",
              "      <td>-3.670898</td>\n",
              "      <td>-1.466239</td>\n",
              "      <td>-1.944804</td>\n",
              "      <td>0.918559</td>\n",
              "      <td>8</td>\n",
              "      <td>-9.678810e-30</td>\n",
              "      <td>-9.622638e-30</td>\n",
              "      <td>-1.006958e-29</td>\n",
              "      <td>-9.588446e-30</td>\n",
              "      <td>-9.310506e-30</td>\n",
              "      <td>-9.653996e-30</td>\n",
              "      <td>2.435524e-31</td>\n",
              "    </tr>\n",
              "    <tr>\n",
              "      <th>16</th>\n",
              "      <td>0.004807</td>\n",
              "      <td>0.000101</td>\n",
              "      <td>0.000881</td>\n",
              "      <td>0.000046</td>\n",
              "      <td>4</td>\n",
              "      <td>3</td>\n",
              "      <td>False</td>\n",
              "      <td>{'bootstrap': False, 'max_features': 4, 'n_est...</td>\n",
              "      <td>-4.825693</td>\n",
              "      <td>-2.017901</td>\n",
              "      <td>-1.590384</td>\n",
              "      <td>-1.162620</td>\n",
              "      <td>-5.831778</td>\n",
              "      <td>-3.078878</td>\n",
              "      <td>1.875795</td>\n",
              "      <td>11</td>\n",
              "      <td>-2.496024e-30</td>\n",
              "      <td>-2.720715e-30</td>\n",
              "      <td>-3.018675e-30</td>\n",
              "      <td>-2.564409e-30</td>\n",
              "      <td>-2.614928e-30</td>\n",
              "      <td>-2.682950e-30</td>\n",
              "      <td>1.831709e-31</td>\n",
              "    </tr>\n",
              "    <tr>\n",
              "      <th>17</th>\n",
              "      <td>0.013899</td>\n",
              "      <td>0.000236</td>\n",
              "      <td>0.001285</td>\n",
              "      <td>0.000023</td>\n",
              "      <td>4</td>\n",
              "      <td>10</td>\n",
              "      <td>False</td>\n",
              "      <td>{'bootstrap': False, 'max_features': 4, 'n_est...</td>\n",
              "      <td>-1.207891</td>\n",
              "      <td>-1.320325</td>\n",
              "      <td>-0.555764</td>\n",
              "      <td>-0.854381</td>\n",
              "      <td>-2.477347</td>\n",
              "      <td>-1.280186</td>\n",
              "      <td>0.653254</td>\n",
              "      <td>5</td>\n",
              "      <td>-9.678810e-30</td>\n",
              "      <td>-9.857098e-30</td>\n",
              "      <td>-1.006958e-29</td>\n",
              "      <td>-9.705676e-30</td>\n",
              "      <td>-9.076770e-30</td>\n",
              "      <td>-9.677586e-30</td>\n",
              "      <td>3.309539e-31</td>\n",
              "    </tr>\n",
              "  </tbody>\n",
              "</table>\n",
              "</div>"
            ],
            "text/plain": [
              "    mean_fit_time  std_fit_time  ...  mean_train_score  std_train_score\n",
              "0        0.003984      0.001030  ...     -2.217875e+00     5.997769e-01\n",
              "1        0.009852      0.000526  ...     -1.167389e+00     1.135127e-01\n",
              "2        0.026742      0.000636  ...     -5.721789e-01     1.269092e-01\n",
              "3        0.003853      0.000023  ...     -1.380425e+00     4.502971e-01\n",
              "4        0.011097      0.000189  ...     -6.707664e-01     2.145619e-01\n",
              "5        0.031450      0.000160  ...     -2.936284e-01     5.437048e-02\n",
              "6        0.004385      0.000112  ...     -9.828123e-01     5.349129e-01\n",
              "7        0.012452      0.000096  ...     -3.514701e-01     8.568800e-02\n",
              "8        0.035835      0.000287  ...     -1.388942e-01     3.502111e-02\n",
              "9        0.004802      0.000043  ...     -6.705119e-01     3.055120e-01\n",
              "10       0.013966      0.000112  ...     -2.100269e-01     7.474790e-02\n",
              "11       0.042381      0.003115  ...     -9.561211e-02     2.152460e-02\n",
              "12       0.004935      0.001136  ...     -1.238390e-05     2.476780e-05\n",
              "13       0.011052      0.000136  ...     -2.922601e-05     5.722166e-05\n",
              "14       0.004566      0.000178  ...     -2.682950e-30     1.831709e-31\n",
              "15       0.012718      0.000288  ...     -9.653996e-30     2.435524e-31\n",
              "16       0.004807      0.000101  ...     -2.682950e-30     1.831709e-31\n",
              "17       0.013899      0.000236  ...     -9.677586e-30     3.309539e-31\n",
              "\n",
              "[18 rows x 23 columns]"
            ]
          },
          "metadata": {
            "tags": []
          },
          "execution_count": 91
        }
      ]
    },
    {
      "cell_type": "code",
      "metadata": {
        "id": "QLoqc_KIuE8_",
        "colab_type": "code",
        "outputId": "92718f13-d091-4f33-aa84-c2374e4505f5",
        "colab": {
          "base_uri": "https://localhost:8080/",
          "height": 428
        }
      },
      "source": [
        "from sklearn.model_selection import RandomizedSearchCV\n",
        "from scipy.stats import randint\n",
        "\n",
        "param_distribs = {\n",
        "        'n_estimators': randint(low=1, high=200),\n",
        "        'max_features': randint(low=1, high=8),\n",
        "    }\n",
        "\n",
        "forest_reg = RandomForestRegressor(random_state=42)\n",
        "rnd_search = RandomizedSearchCV(forest_reg, param_distributions=param_distribs,\n",
        "                                n_iter=10, cv=5, scoring='neg_mean_squared_error', random_state=42)\n",
        "rnd_search.fit(housing_prepared, housing_labels)"
      ],
      "execution_count": 0,
      "outputs": [
        {
          "output_type": "stream",
          "text": [
            "/usr/local/lib/python3.6/dist-packages/sklearn/model_selection/_search.py:814: DeprecationWarning: The default of the `iid` parameter will change from True to False in version 0.22 and will be removed in 0.24. This will change numeric results when test-set sizes are unequal.\n",
            "  DeprecationWarning)\n"
          ],
          "name": "stderr"
        },
        {
          "output_type": "execute_result",
          "data": {
            "text/plain": [
              "RandomizedSearchCV(cv=5, error_score='raise-deprecating',\n",
              "                   estimator=RandomForestRegressor(bootstrap=True,\n",
              "                                                   criterion='mse',\n",
              "                                                   max_depth=None,\n",
              "                                                   max_features='auto',\n",
              "                                                   max_leaf_nodes=None,\n",
              "                                                   min_impurity_decrease=0.0,\n",
              "                                                   min_impurity_split=None,\n",
              "                                                   min_samples_leaf=1,\n",
              "                                                   min_samples_split=2,\n",
              "                                                   min_weight_fraction_leaf=0.0,\n",
              "                                                   n_estimators='warn',\n",
              "                                                   n_jobs=None, oob_score=False,\n",
              "                                                   random_sta...\n",
              "                                                   warm_start=False),\n",
              "                   iid='warn', n_iter=10, n_jobs=None,\n",
              "                   param_distributions={'max_features': <scipy.stats._distn_infrastructure.rv_frozen object at 0x7fdbd8b04358>,\n",
              "                                        'n_estimators': <scipy.stats._distn_infrastructure.rv_frozen object at 0x7fdbd8af2940>},\n",
              "                   pre_dispatch='2*n_jobs', random_state=42, refit=True,\n",
              "                   return_train_score=False, scoring='neg_mean_squared_error',\n",
              "                   verbose=0)"
            ]
          },
          "metadata": {
            "tags": []
          },
          "execution_count": 92
        }
      ]
    },
    {
      "cell_type": "code",
      "metadata": {
        "id": "nkl8tZ2Tut0U",
        "colab_type": "code",
        "outputId": "52b73e6f-5b3c-4171-99d9-05916526037f",
        "colab": {
          "base_uri": "https://localhost:8080/",
          "height": 187
        }
      },
      "source": [
        "cvres = rnd_search.cv_results_\n",
        "for mean_score, params in zip(cvres[\"mean_test_score\"], cvres[\"params\"]):\n",
        "    print(np.sqrt(-mean_score), params)"
      ],
      "execution_count": 0,
      "outputs": [
        {
          "output_type": "stream",
          "text": [
            "0.6136956037279071 {'max_features': 7, 'n_estimators': 180}\n",
            "1.2491680840023929 {'max_features': 5, 'n_estimators': 15}\n",
            "1.1955630926688168 {'max_features': 3, 'n_estimators': 72}\n",
            "1.145978788137344 {'max_features': 5, 'n_estimators': 21}\n",
            "0.6473276606165508 {'max_features': 7, 'n_estimators': 122}\n",
            "1.1896912283957926 {'max_features': 3, 'n_estimators': 75}\n",
            "1.2038697995090117 {'max_features': 3, 'n_estimators': 88}\n",
            "0.8904972314987445 {'max_features': 5, 'n_estimators': 100}\n",
            "1.2063902205076145 {'max_features': 3, 'n_estimators': 150}\n",
            "2.466099357204401 {'max_features': 5, 'n_estimators': 2}\n"
          ],
          "name": "stdout"
        }
      ]
    },
    {
      "cell_type": "code",
      "metadata": {
        "id": "78NM0xGqut4o",
        "colab_type": "code",
        "outputId": "d329db8b-ce50-4e81-9896-cbf494153274",
        "colab": {
          "base_uri": "https://localhost:8080/",
          "height": 122
        }
      },
      "source": [
        "feature_importances = grid_search.best_estimator_.feature_importances_\n",
        "feature_importances"
      ],
      "execution_count": 0,
      "outputs": [
        {
          "output_type": "execute_result",
          "data": {
            "text/plain": [
              "array([1.00127468e-02, 6.21419825e-05, 9.23121075e-03, 2.81040708e-05,\n",
              "       1.26865916e-03, 9.87935197e-02, 2.76052913e-03, 1.08295799e-02,\n",
              "       1.49644052e-04, 4.94651066e-04, 1.18135601e-03, 1.77039352e-03,\n",
              "       1.34830788e-01, 4.44487183e-01, 2.22940904e-01, 6.10589593e-02,\n",
              "       9.96300490e-05])"
            ]
          },
          "metadata": {
            "tags": []
          },
          "execution_count": 94
        }
      ]
    },
    {
      "cell_type": "code",
      "metadata": {
        "id": "7O-6cDt4u2SK",
        "colab_type": "code",
        "outputId": "c8e4f23d-dcd9-4c5b-f619-baaa50a8ead3",
        "colab": {
          "base_uri": "https://localhost:8080/",
          "height": 306
        }
      },
      "source": [
        "extra_attribs = [\"rm_per_medval\", \"b_per_medval\", \"zn_per_medval\"]\n",
        "attributes = num_attribs + extra_attribs\n",
        "sorted(zip(feature_importances, attributes), reverse=True)"
      ],
      "execution_count": 0,
      "outputs": [
        {
          "output_type": "execute_result",
          "data": {
            "text/plain": [
              "[(0.4444871831762242, 'medv'),\n",
              " (0.22294090350971582, 'rm_per_medval'),\n",
              " (0.1348307878918999, 'lstat'),\n",
              " (0.09879351971534517, 'rm'),\n",
              " (0.06105895925683189, 'b_per_medval'),\n",
              " (0.010829579891080585, 'dis'),\n",
              " (0.010012746757873845, 'crim'),\n",
              " (0.00923121075495095, 'indus'),\n",
              " (0.002760529133636641, 'age'),\n",
              " (0.0017703935199382208, 'b'),\n",
              " (0.0012686591642503517, 'nox'),\n",
              " (0.0011813560076766214, 'ptratio'),\n",
              " (0.00049465106627215, 'tax'),\n",
              " (0.00014964405206410825, 'rad'),\n",
              " (9.963004899616988e-05, 'zn_per_medval'),\n",
              " (6.214198248199997e-05, 'zn'),\n",
              " (2.810407076147395e-05, 'chas')]"
            ]
          },
          "metadata": {
            "tags": []
          },
          "execution_count": 95
        }
      ]
    },
    {
      "cell_type": "code",
      "metadata": {
        "id": "NYAVVyEWu2WM",
        "colab_type": "code",
        "colab": {}
      },
      "source": [
        "final_model = grid_search.best_estimator_\n",
        "\n",
        "X_test = strat_test_set.copy()\n",
        "y_test = strat_test_set[\"medv\"].copy()\n",
        "\n",
        "X_test_prepared = full_pipeline.transform(X_test)\n",
        "final_predictions = final_model.predict(X_test_prepared)\n",
        "\n",
        "final_mse = mean_squared_error(y_test, final_predictions)\n",
        "final_rmse = np.sqrt(final_mse)"
      ],
      "execution_count": 0,
      "outputs": []
    },
    {
      "cell_type": "code",
      "metadata": {
        "id": "wI95C1NSwiS_",
        "colab_type": "code",
        "outputId": "56cb959c-8462-4e1b-e3de-c374d35226cd",
        "colab": {
          "base_uri": "https://localhost:8080/",
          "height": 34
        }
      },
      "source": [
        "final_rmse"
      ],
      "execution_count": 0,
      "outputs": [
        {
          "output_type": "execute_result",
          "data": {
            "text/plain": [
              "0.8853133561412537"
            ]
          },
          "metadata": {
            "tags": []
          },
          "execution_count": 103
        }
      ]
    },
    {
      "cell_type": "code",
      "metadata": {
        "id": "-rgMWgfrwiXi",
        "colab_type": "code",
        "outputId": "62f1b3fb-a4a7-4e35-b645-4f5775aa9762",
        "colab": {
          "base_uri": "https://localhost:8080/",
          "height": 108
        }
      },
      "source": [
        "from scipy import stats\n",
        "\n",
        "confidence = 0.95\n",
        "squared_errors = (final_predictions - y_test) ** 2\n",
        "np.sqrt(stats.t.interval(confidence, len(squared_errors) - 1,\n",
        "                         loc=squared_errors.mean(),\n",
        "                         scale=stats.sem(squared_errors)))"
      ],
      "execution_count": 0,
      "outputs": [
        {
          "output_type": "stream",
          "text": [
            "/usr/local/lib/python3.6/dist-packages/ipykernel_launcher.py:7: RuntimeWarning: invalid value encountered in sqrt\n",
            "  import sys\n"
          ],
          "name": "stderr"
        },
        {
          "output_type": "execute_result",
          "data": {
            "text/plain": [
              "array([       nan, 1.38804136])"
            ]
          },
          "metadata": {
            "tags": []
          },
          "execution_count": 104
        }
      ]
    },
    {
      "cell_type": "markdown",
      "metadata": {
        "id": "aXkxNnOQxmQy",
        "colab_type": "text"
      },
      "source": [
        "Not sure what happened..."
      ]
    },
    {
      "cell_type": "markdown",
      "metadata": {
        "id": "XwTR5LvizJco",
        "colab_type": "text"
      },
      "source": [
        "\n",
        "After trying out the different regressions, the best one that produced the lowest number was the RandomForestRegressor, as shown above.\n"
      ]
    }
  ]
}